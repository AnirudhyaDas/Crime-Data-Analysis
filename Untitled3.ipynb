{
 "cells": [
  {
   "cell_type": "code",
   "execution_count": 64,
   "id": "4aa542bf",
   "metadata": {},
   "outputs": [],
   "source": [
    "import numpy as np\n",
    "import pandas as pd\n",
    "import seaborn as sns\n",
    "import matplotlib.pyplot as plt\n",
    "%matplotlib inline"
   ]
  },
  {
   "cell_type": "markdown",
   "id": "7791de33",
   "metadata": {},
   "source": [
    "## Loading the dataset into a Pandas Dataframe"
   ]
  },
  {
   "cell_type": "code",
   "execution_count": 65,
   "id": "1eeb768c",
   "metadata": {},
   "outputs": [
    {
     "data": {
      "text/html": [
       "<div>\n",
       "<style scoped>\n",
       "    .dataframe tbody tr th:only-of-type {\n",
       "        vertical-align: middle;\n",
       "    }\n",
       "\n",
       "    .dataframe tbody tr th {\n",
       "        vertical-align: top;\n",
       "    }\n",
       "\n",
       "    .dataframe thead th {\n",
       "        text-align: right;\n",
       "    }\n",
       "</style>\n",
       "<table border=\"1\" class=\"dataframe\">\n",
       "  <thead>\n",
       "    <tr style=\"text-align: right;\">\n",
       "      <th></th>\n",
       "      <th>Arrest Year</th>\n",
       "      <th>Arrest Date</th>\n",
       "      <th>Arrest Hour</th>\n",
       "      <th>Age</th>\n",
       "      <th>Defendant Race</th>\n",
       "      <th>Defendant Ethnicity</th>\n",
       "      <th>Defendant Sex</th>\n",
       "      <th>Arrest Category</th>\n",
       "      <th>Offense Latitude</th>\n",
       "      <th>Offense Longitude</th>\n",
       "    </tr>\n",
       "  </thead>\n",
       "  <tbody>\n",
       "    <tr>\n",
       "      <th>0</th>\n",
       "      <td>2021</td>\n",
       "      <td>1/1/21</td>\n",
       "      <td>0</td>\n",
       "      <td>38</td>\n",
       "      <td>BLACK</td>\n",
       "      <td>UNKNOWN</td>\n",
       "      <td>MALE</td>\n",
       "      <td>Damage to Property</td>\n",
       "      <td>38.927</td>\n",
       "      <td>-77.006</td>\n",
       "    </tr>\n",
       "    <tr>\n",
       "      <th>1</th>\n",
       "      <td>2021</td>\n",
       "      <td>1/1/21</td>\n",
       "      <td>0</td>\n",
       "      <td>31</td>\n",
       "      <td>BLACK</td>\n",
       "      <td>NOT HISPANIC</td>\n",
       "      <td>MALE</td>\n",
       "      <td>Simple Assault</td>\n",
       "      <td>38.925</td>\n",
       "      <td>-77.033</td>\n",
       "    </tr>\n",
       "    <tr>\n",
       "      <th>2</th>\n",
       "      <td>2021</td>\n",
       "      <td>1/1/21</td>\n",
       "      <td>0</td>\n",
       "      <td>35</td>\n",
       "      <td>BLACK</td>\n",
       "      <td>NOT HISPANIC</td>\n",
       "      <td>MALE</td>\n",
       "      <td>Weapon Violations</td>\n",
       "      <td>38.900</td>\n",
       "      <td>-76.930</td>\n",
       "    </tr>\n",
       "    <tr>\n",
       "      <th>3</th>\n",
       "      <td>2021</td>\n",
       "      <td>1/1/21</td>\n",
       "      <td>0</td>\n",
       "      <td>31</td>\n",
       "      <td>BLACK</td>\n",
       "      <td>NOT HISPANIC</td>\n",
       "      <td>MALE</td>\n",
       "      <td>Weapon Violations</td>\n",
       "      <td>38.849</td>\n",
       "      <td>-76.976</td>\n",
       "    </tr>\n",
       "    <tr>\n",
       "      <th>4</th>\n",
       "      <td>2021</td>\n",
       "      <td>1/1/21</td>\n",
       "      <td>0</td>\n",
       "      <td>21</td>\n",
       "      <td>BLACK</td>\n",
       "      <td>NOT HISPANIC</td>\n",
       "      <td>MALE</td>\n",
       "      <td>Weapon Violations</td>\n",
       "      <td>38.882</td>\n",
       "      <td>-76.925</td>\n",
       "    </tr>\n",
       "  </tbody>\n",
       "</table>\n",
       "</div>"
      ],
      "text/plain": [
       "   Arrest Year Arrest Date  Arrest Hour  Age Defendant Race  \\\n",
       "0         2021      1/1/21            0   38          BLACK   \n",
       "1         2021      1/1/21            0   31          BLACK   \n",
       "2         2021      1/1/21            0   35          BLACK   \n",
       "3         2021      1/1/21            0   31          BLACK   \n",
       "4         2021      1/1/21            0   21          BLACK   \n",
       "\n",
       "  Defendant Ethnicity Defendant Sex     Arrest Category  Offense Latitude  \\\n",
       "0             UNKNOWN          MALE  Damage to Property            38.927   \n",
       "1        NOT HISPANIC          MALE      Simple Assault            38.925   \n",
       "2        NOT HISPANIC          MALE   Weapon Violations            38.900   \n",
       "3        NOT HISPANIC          MALE   Weapon Violations            38.849   \n",
       "4        NOT HISPANIC          MALE   Weapon Violations            38.882   \n",
       "\n",
       "   Offense Longitude  \n",
       "0            -77.006  \n",
       "1            -77.033  \n",
       "2            -76.930  \n",
       "3            -76.976  \n",
       "4            -76.925  "
      ]
     },
     "execution_count": 65,
     "metadata": {},
     "output_type": "execute_result"
    }
   ],
   "source": [
    "df = pd.read_csv('crime_data.csv')\n",
    "df.head()"
   ]
  },
  {
   "cell_type": "code",
   "execution_count": 66,
   "id": "9a39b8aa",
   "metadata": {},
   "outputs": [
    {
     "data": {
      "text/plain": [
       "(15653, 10)"
      ]
     },
     "execution_count": 66,
     "metadata": {},
     "output_type": "execute_result"
    }
   ],
   "source": [
    "df.shape"
   ]
  },
  {
   "cell_type": "code",
   "execution_count": 67,
   "id": "cf1568d4",
   "metadata": {},
   "outputs": [
    {
     "data": {
      "text/plain": [
       "Index(['Arrest Year', 'Arrest Date', 'Arrest Hour', 'Age', 'Defendant Race',\n",
       "       'Defendant Ethnicity', 'Defendant Sex', 'Arrest Category',\n",
       "       'Offense Latitude', 'Offense Longitude'],\n",
       "      dtype='object')"
      ]
     },
     "execution_count": 67,
     "metadata": {},
     "output_type": "execute_result"
    }
   ],
   "source": [
    "df.columns"
   ]
  },
  {
   "cell_type": "markdown",
   "id": "e8e70088",
   "metadata": {},
   "source": [
    "## Data Cleaning"
   ]
  },
  {
   "cell_type": "code",
   "execution_count": 68,
   "id": "7c59b1dc",
   "metadata": {},
   "outputs": [],
   "source": [
    "df = df.fillna(0)"
   ]
  },
  {
   "cell_type": "code",
   "execution_count": 69,
   "id": "d6201e33",
   "metadata": {},
   "outputs": [
    {
     "data": {
      "text/html": [
       "<div>\n",
       "<style scoped>\n",
       "    .dataframe tbody tr th:only-of-type {\n",
       "        vertical-align: middle;\n",
       "    }\n",
       "\n",
       "    .dataframe tbody tr th {\n",
       "        vertical-align: top;\n",
       "    }\n",
       "\n",
       "    .dataframe thead th {\n",
       "        text-align: right;\n",
       "    }\n",
       "</style>\n",
       "<table border=\"1\" class=\"dataframe\">\n",
       "  <thead>\n",
       "    <tr style=\"text-align: right;\">\n",
       "      <th></th>\n",
       "      <th>Arrest Year</th>\n",
       "      <th>Arrest Date</th>\n",
       "      <th>Arrest Hour</th>\n",
       "      <th>Age</th>\n",
       "      <th>Defendant Race</th>\n",
       "      <th>Defendant Ethnicity</th>\n",
       "      <th>Defendant Sex</th>\n",
       "      <th>Arrest Category</th>\n",
       "      <th>Offense Latitude</th>\n",
       "      <th>Offense Longitude</th>\n",
       "    </tr>\n",
       "  </thead>\n",
       "  <tbody>\n",
       "    <tr>\n",
       "      <th>0</th>\n",
       "      <td>False</td>\n",
       "      <td>False</td>\n",
       "      <td>False</td>\n",
       "      <td>False</td>\n",
       "      <td>False</td>\n",
       "      <td>False</td>\n",
       "      <td>False</td>\n",
       "      <td>False</td>\n",
       "      <td>False</td>\n",
       "      <td>False</td>\n",
       "    </tr>\n",
       "    <tr>\n",
       "      <th>1</th>\n",
       "      <td>False</td>\n",
       "      <td>False</td>\n",
       "      <td>False</td>\n",
       "      <td>False</td>\n",
       "      <td>False</td>\n",
       "      <td>False</td>\n",
       "      <td>False</td>\n",
       "      <td>False</td>\n",
       "      <td>False</td>\n",
       "      <td>False</td>\n",
       "    </tr>\n",
       "    <tr>\n",
       "      <th>2</th>\n",
       "      <td>False</td>\n",
       "      <td>False</td>\n",
       "      <td>False</td>\n",
       "      <td>False</td>\n",
       "      <td>False</td>\n",
       "      <td>False</td>\n",
       "      <td>False</td>\n",
       "      <td>False</td>\n",
       "      <td>False</td>\n",
       "      <td>False</td>\n",
       "    </tr>\n",
       "    <tr>\n",
       "      <th>3</th>\n",
       "      <td>False</td>\n",
       "      <td>False</td>\n",
       "      <td>False</td>\n",
       "      <td>False</td>\n",
       "      <td>False</td>\n",
       "      <td>False</td>\n",
       "      <td>False</td>\n",
       "      <td>False</td>\n",
       "      <td>False</td>\n",
       "      <td>False</td>\n",
       "    </tr>\n",
       "    <tr>\n",
       "      <th>4</th>\n",
       "      <td>False</td>\n",
       "      <td>False</td>\n",
       "      <td>False</td>\n",
       "      <td>False</td>\n",
       "      <td>False</td>\n",
       "      <td>False</td>\n",
       "      <td>False</td>\n",
       "      <td>False</td>\n",
       "      <td>False</td>\n",
       "      <td>False</td>\n",
       "    </tr>\n",
       "    <tr>\n",
       "      <th>...</th>\n",
       "      <td>...</td>\n",
       "      <td>...</td>\n",
       "      <td>...</td>\n",
       "      <td>...</td>\n",
       "      <td>...</td>\n",
       "      <td>...</td>\n",
       "      <td>...</td>\n",
       "      <td>...</td>\n",
       "      <td>...</td>\n",
       "      <td>...</td>\n",
       "    </tr>\n",
       "    <tr>\n",
       "      <th>15648</th>\n",
       "      <td>False</td>\n",
       "      <td>False</td>\n",
       "      <td>False</td>\n",
       "      <td>False</td>\n",
       "      <td>False</td>\n",
       "      <td>False</td>\n",
       "      <td>False</td>\n",
       "      <td>False</td>\n",
       "      <td>False</td>\n",
       "      <td>False</td>\n",
       "    </tr>\n",
       "    <tr>\n",
       "      <th>15649</th>\n",
       "      <td>False</td>\n",
       "      <td>False</td>\n",
       "      <td>False</td>\n",
       "      <td>False</td>\n",
       "      <td>False</td>\n",
       "      <td>False</td>\n",
       "      <td>False</td>\n",
       "      <td>False</td>\n",
       "      <td>False</td>\n",
       "      <td>False</td>\n",
       "    </tr>\n",
       "    <tr>\n",
       "      <th>15650</th>\n",
       "      <td>False</td>\n",
       "      <td>False</td>\n",
       "      <td>False</td>\n",
       "      <td>False</td>\n",
       "      <td>False</td>\n",
       "      <td>False</td>\n",
       "      <td>False</td>\n",
       "      <td>False</td>\n",
       "      <td>False</td>\n",
       "      <td>False</td>\n",
       "    </tr>\n",
       "    <tr>\n",
       "      <th>15651</th>\n",
       "      <td>False</td>\n",
       "      <td>False</td>\n",
       "      <td>False</td>\n",
       "      <td>False</td>\n",
       "      <td>False</td>\n",
       "      <td>False</td>\n",
       "      <td>False</td>\n",
       "      <td>False</td>\n",
       "      <td>False</td>\n",
       "      <td>False</td>\n",
       "    </tr>\n",
       "    <tr>\n",
       "      <th>15652</th>\n",
       "      <td>False</td>\n",
       "      <td>False</td>\n",
       "      <td>False</td>\n",
       "      <td>False</td>\n",
       "      <td>False</td>\n",
       "      <td>False</td>\n",
       "      <td>False</td>\n",
       "      <td>False</td>\n",
       "      <td>False</td>\n",
       "      <td>False</td>\n",
       "    </tr>\n",
       "  </tbody>\n",
       "</table>\n",
       "<p>15653 rows × 10 columns</p>\n",
       "</div>"
      ],
      "text/plain": [
       "       Arrest Year  Arrest Date  Arrest Hour    Age  Defendant Race  \\\n",
       "0            False        False        False  False           False   \n",
       "1            False        False        False  False           False   \n",
       "2            False        False        False  False           False   \n",
       "3            False        False        False  False           False   \n",
       "4            False        False        False  False           False   \n",
       "...            ...          ...          ...    ...             ...   \n",
       "15648        False        False        False  False           False   \n",
       "15649        False        False        False  False           False   \n",
       "15650        False        False        False  False           False   \n",
       "15651        False        False        False  False           False   \n",
       "15652        False        False        False  False           False   \n",
       "\n",
       "       Defendant Ethnicity  Defendant Sex  Arrest Category  Offense Latitude  \\\n",
       "0                    False          False            False             False   \n",
       "1                    False          False            False             False   \n",
       "2                    False          False            False             False   \n",
       "3                    False          False            False             False   \n",
       "4                    False          False            False             False   \n",
       "...                    ...            ...              ...               ...   \n",
       "15648                False          False            False             False   \n",
       "15649                False          False            False             False   \n",
       "15650                False          False            False             False   \n",
       "15651                False          False            False             False   \n",
       "15652                False          False            False             False   \n",
       "\n",
       "       Offense Longitude  \n",
       "0                  False  \n",
       "1                  False  \n",
       "2                  False  \n",
       "3                  False  \n",
       "4                  False  \n",
       "...                  ...  \n",
       "15648              False  \n",
       "15649              False  \n",
       "15650              False  \n",
       "15651              False  \n",
       "15652              False  \n",
       "\n",
       "[15653 rows x 10 columns]"
      ]
     },
     "execution_count": 69,
     "metadata": {},
     "output_type": "execute_result"
    }
   ],
   "source": [
    "df.isnull()"
   ]
  },
  {
   "cell_type": "code",
   "execution_count": 70,
   "id": "fac0bf3b",
   "metadata": {},
   "outputs": [
    {
     "data": {
      "text/html": [
       "<div>\n",
       "<style scoped>\n",
       "    .dataframe tbody tr th:only-of-type {\n",
       "        vertical-align: middle;\n",
       "    }\n",
       "\n",
       "    .dataframe tbody tr th {\n",
       "        vertical-align: top;\n",
       "    }\n",
       "\n",
       "    .dataframe thead th {\n",
       "        text-align: right;\n",
       "    }\n",
       "</style>\n",
       "<table border=\"1\" class=\"dataframe\">\n",
       "  <thead>\n",
       "    <tr style=\"text-align: right;\">\n",
       "      <th></th>\n",
       "      <th>Defendant Sex</th>\n",
       "      <th>Numbers</th>\n",
       "    </tr>\n",
       "  </thead>\n",
       "  <tbody>\n",
       "    <tr>\n",
       "      <th>0</th>\n",
       "      <td>FEMALE</td>\n",
       "      <td>3423</td>\n",
       "    </tr>\n",
       "    <tr>\n",
       "      <th>1</th>\n",
       "      <td>MALE</td>\n",
       "      <td>12224</td>\n",
       "    </tr>\n",
       "    <tr>\n",
       "      <th>2</th>\n",
       "      <td>UNKNOWN</td>\n",
       "      <td>6</td>\n",
       "    </tr>\n",
       "  </tbody>\n",
       "</table>\n",
       "</div>"
      ],
      "text/plain": [
       "  Defendant Sex  Numbers\n",
       "0        FEMALE     3423\n",
       "1          MALE    12224\n",
       "2       UNKNOWN        6"
      ]
     },
     "execution_count": 70,
     "metadata": {},
     "output_type": "execute_result"
    }
   ],
   "source": [
    "df_sex = df.groupby('Defendant Sex').size().reset_index(name = 'Numbers')\n",
    "df_sex"
   ]
  },
  {
   "cell_type": "markdown",
   "id": "ad1cef7b",
   "metadata": {},
   "source": [
    "## Criteria Based Label Creation"
   ]
  },
  {
   "cell_type": "code",
   "execution_count": 71,
   "id": "c2e5d93f",
   "metadata": {},
   "outputs": [
    {
     "data": {
      "text/plain": [
       "35.374177473966654"
      ]
     },
     "execution_count": 71,
     "metadata": {},
     "output_type": "execute_result"
    }
   ],
   "source": [
    "crimes_age = list(map(float, df.Age))\n",
    "crimes_mean = sum(crimes_age)/len(crimes_age)\n",
    "crimes_mean"
   ]
  },
  {
   "cell_type": "code",
   "execution_count": 72,
   "id": "d67f5760",
   "metadata": {},
   "outputs": [
    {
     "name": "stderr",
     "output_type": "stream",
     "text": [
      "C:\\Users\\JNR_A_R_Y_A\\AppData\\Local\\Temp\\ipykernel_16960\\2502579663.py:3: FutureWarning: The default value of numeric_only in DataFrameGroupBy.mean is deprecated. In a future version, numeric_only will default to False. Either specify numeric_only or select only columns which should be valid for the function.\n",
      "  df.groupby('crime_occurence_age').mean()\n"
     ]
    },
    {
     "data": {
      "text/html": [
       "<div>\n",
       "<style scoped>\n",
       "    .dataframe tbody tr th:only-of-type {\n",
       "        vertical-align: middle;\n",
       "    }\n",
       "\n",
       "    .dataframe tbody tr th {\n",
       "        vertical-align: top;\n",
       "    }\n",
       "\n",
       "    .dataframe thead th {\n",
       "        text-align: right;\n",
       "    }\n",
       "</style>\n",
       "<table border=\"1\" class=\"dataframe\">\n",
       "  <thead>\n",
       "    <tr style=\"text-align: right;\">\n",
       "      <th></th>\n",
       "      <th>Arrest Year</th>\n",
       "      <th>Arrest Hour</th>\n",
       "      <th>Age</th>\n",
       "      <th>Offense Latitude</th>\n",
       "      <th>Offense Longitude</th>\n",
       "      <th>Age_mean</th>\n",
       "    </tr>\n",
       "    <tr>\n",
       "      <th>crime_occurence_age</th>\n",
       "      <th></th>\n",
       "      <th></th>\n",
       "      <th></th>\n",
       "      <th></th>\n",
       "      <th></th>\n",
       "      <th></th>\n",
       "    </tr>\n",
       "  </thead>\n",
       "  <tbody>\n",
       "    <tr>\n",
       "      <th>0</th>\n",
       "      <td>2021.0</td>\n",
       "      <td>12.743929</td>\n",
       "      <td>26.988725</td>\n",
       "      <td>38.855876</td>\n",
       "      <td>-76.915434</td>\n",
       "      <td>35.374177</td>\n",
       "    </tr>\n",
       "    <tr>\n",
       "      <th>1</th>\n",
       "      <td>2021.0</td>\n",
       "      <td>12.925027</td>\n",
       "      <td>47.405195</td>\n",
       "      <td>38.824105</td>\n",
       "      <td>-76.849981</td>\n",
       "      <td>35.374177</td>\n",
       "    </tr>\n",
       "  </tbody>\n",
       "</table>\n",
       "</div>"
      ],
      "text/plain": [
       "                     Arrest Year  Arrest Hour        Age  Offense Latitude  \\\n",
       "crime_occurence_age                                                          \n",
       "0                         2021.0    12.743929  26.988725         38.855876   \n",
       "1                         2021.0    12.925027  47.405195         38.824105   \n",
       "\n",
       "                     Offense Longitude   Age_mean  \n",
       "crime_occurence_age                                \n",
       "0                           -76.915434  35.374177  \n",
       "1                           -76.849981  35.374177  "
      ]
     },
     "execution_count": 72,
     "metadata": {},
     "output_type": "execute_result"
    }
   ],
   "source": [
    "df['Age_mean'] = crimes_mean\n",
    "df['crime_occurence_age'] = np.where(crimes_age>=df['Age_mean'], '1', '0')\n",
    "df.groupby('crime_occurence_age').mean()"
   ]
  },
  {
   "cell_type": "markdown",
   "id": "40d09dd6",
   "metadata": {},
   "source": [
    "## Data Slicing"
   ]
  },
  {
   "cell_type": "code",
   "execution_count": 73,
   "id": "3964d862",
   "metadata": {},
   "outputs": [
    {
     "data": {
      "text/html": [
       "<div>\n",
       "<style scoped>\n",
       "    .dataframe tbody tr th:only-of-type {\n",
       "        vertical-align: middle;\n",
       "    }\n",
       "\n",
       "    .dataframe tbody tr th {\n",
       "        vertical-align: top;\n",
       "    }\n",
       "\n",
       "    .dataframe thead th {\n",
       "        text-align: right;\n",
       "    }\n",
       "</style>\n",
       "<table border=\"1\" class=\"dataframe\">\n",
       "  <thead>\n",
       "    <tr style=\"text-align: right;\">\n",
       "      <th></th>\n",
       "      <th>Arrest Year</th>\n",
       "      <th>Arrest Date</th>\n",
       "      <th>Arrest Hour</th>\n",
       "      <th>Age</th>\n",
       "      <th>Defendant Race</th>\n",
       "      <th>Defendant Ethnicity</th>\n",
       "      <th>Defendant Sex</th>\n",
       "      <th>Arrest Category</th>\n",
       "      <th>Offense Latitude</th>\n",
       "      <th>Offense Longitude</th>\n",
       "      <th>Age_mean</th>\n",
       "      <th>crime_occurence_age</th>\n",
       "    </tr>\n",
       "  </thead>\n",
       "  <tbody>\n",
       "    <tr>\n",
       "      <th>0</th>\n",
       "      <td>2021</td>\n",
       "      <td>1/1/21</td>\n",
       "      <td>0</td>\n",
       "      <td>38</td>\n",
       "      <td>BLACK</td>\n",
       "      <td>UNKNOWN</td>\n",
       "      <td>MALE</td>\n",
       "      <td>Damage to Property</td>\n",
       "      <td>38.927</td>\n",
       "      <td>-77.006</td>\n",
       "      <td>35.374177</td>\n",
       "      <td>1</td>\n",
       "    </tr>\n",
       "    <tr>\n",
       "      <th>1</th>\n",
       "      <td>2021</td>\n",
       "      <td>1/1/21</td>\n",
       "      <td>0</td>\n",
       "      <td>31</td>\n",
       "      <td>BLACK</td>\n",
       "      <td>NOT HISPANIC</td>\n",
       "      <td>MALE</td>\n",
       "      <td>Simple Assault</td>\n",
       "      <td>38.925</td>\n",
       "      <td>-77.033</td>\n",
       "      <td>35.374177</td>\n",
       "      <td>0</td>\n",
       "    </tr>\n",
       "    <tr>\n",
       "      <th>2</th>\n",
       "      <td>2021</td>\n",
       "      <td>1/1/21</td>\n",
       "      <td>0</td>\n",
       "      <td>35</td>\n",
       "      <td>BLACK</td>\n",
       "      <td>NOT HISPANIC</td>\n",
       "      <td>MALE</td>\n",
       "      <td>Weapon Violations</td>\n",
       "      <td>38.900</td>\n",
       "      <td>-76.930</td>\n",
       "      <td>35.374177</td>\n",
       "      <td>0</td>\n",
       "    </tr>\n",
       "    <tr>\n",
       "      <th>3</th>\n",
       "      <td>2021</td>\n",
       "      <td>1/1/21</td>\n",
       "      <td>0</td>\n",
       "      <td>31</td>\n",
       "      <td>BLACK</td>\n",
       "      <td>NOT HISPANIC</td>\n",
       "      <td>MALE</td>\n",
       "      <td>Weapon Violations</td>\n",
       "      <td>38.849</td>\n",
       "      <td>-76.976</td>\n",
       "      <td>35.374177</td>\n",
       "      <td>0</td>\n",
       "    </tr>\n",
       "    <tr>\n",
       "      <th>4</th>\n",
       "      <td>2021</td>\n",
       "      <td>1/1/21</td>\n",
       "      <td>0</td>\n",
       "      <td>21</td>\n",
       "      <td>BLACK</td>\n",
       "      <td>NOT HISPANIC</td>\n",
       "      <td>MALE</td>\n",
       "      <td>Weapon Violations</td>\n",
       "      <td>38.882</td>\n",
       "      <td>-76.925</td>\n",
       "      <td>35.374177</td>\n",
       "      <td>0</td>\n",
       "    </tr>\n",
       "    <tr>\n",
       "      <th>...</th>\n",
       "      <td>...</td>\n",
       "      <td>...</td>\n",
       "      <td>...</td>\n",
       "      <td>...</td>\n",
       "      <td>...</td>\n",
       "      <td>...</td>\n",
       "      <td>...</td>\n",
       "      <td>...</td>\n",
       "      <td>...</td>\n",
       "      <td>...</td>\n",
       "      <td>...</td>\n",
       "      <td>...</td>\n",
       "    </tr>\n",
       "    <tr>\n",
       "      <th>195</th>\n",
       "      <td>2021</td>\n",
       "      <td>1/13/21</td>\n",
       "      <td>17</td>\n",
       "      <td>54</td>\n",
       "      <td>BLACK</td>\n",
       "      <td>NOT HISPANIC</td>\n",
       "      <td>MALE</td>\n",
       "      <td>Traffic Violations</td>\n",
       "      <td>38.905</td>\n",
       "      <td>-77.017</td>\n",
       "      <td>35.374177</td>\n",
       "      <td>1</td>\n",
       "    </tr>\n",
       "    <tr>\n",
       "      <th>196</th>\n",
       "      <td>2021</td>\n",
       "      <td>1/13/21</td>\n",
       "      <td>20</td>\n",
       "      <td>28</td>\n",
       "      <td>BLACK</td>\n",
       "      <td>NOT HISPANIC</td>\n",
       "      <td>MALE</td>\n",
       "      <td>Assault with a Dangerous Weapon</td>\n",
       "      <td>38.888</td>\n",
       "      <td>-76.919</td>\n",
       "      <td>35.374177</td>\n",
       "      <td>0</td>\n",
       "    </tr>\n",
       "    <tr>\n",
       "      <th>197</th>\n",
       "      <td>2021</td>\n",
       "      <td>1/13/21</td>\n",
       "      <td>20</td>\n",
       "      <td>33</td>\n",
       "      <td>BLACK</td>\n",
       "      <td>NOT HISPANIC</td>\n",
       "      <td>MALE</td>\n",
       "      <td>Damage to Property</td>\n",
       "      <td>38.845</td>\n",
       "      <td>-76.985</td>\n",
       "      <td>35.374177</td>\n",
       "      <td>0</td>\n",
       "    </tr>\n",
       "    <tr>\n",
       "      <th>198</th>\n",
       "      <td>2021</td>\n",
       "      <td>1/13/21</td>\n",
       "      <td>20</td>\n",
       "      <td>31</td>\n",
       "      <td>BLACK</td>\n",
       "      <td>NOT HISPANIC</td>\n",
       "      <td>MALE</td>\n",
       "      <td>Driving/Boating While Intoxicated</td>\n",
       "      <td>38.902</td>\n",
       "      <td>-76.942</td>\n",
       "      <td>35.374177</td>\n",
       "      <td>0</td>\n",
       "    </tr>\n",
       "    <tr>\n",
       "      <th>199</th>\n",
       "      <td>2021</td>\n",
       "      <td>1/13/21</td>\n",
       "      <td>21</td>\n",
       "      <td>34</td>\n",
       "      <td>WHITE</td>\n",
       "      <td>NOT HISPANIC</td>\n",
       "      <td>MALE</td>\n",
       "      <td>Simple Assault</td>\n",
       "      <td>38.900</td>\n",
       "      <td>-77.018</td>\n",
       "      <td>35.374177</td>\n",
       "      <td>0</td>\n",
       "    </tr>\n",
       "  </tbody>\n",
       "</table>\n",
       "<p>200 rows × 12 columns</p>\n",
       "</div>"
      ],
      "text/plain": [
       "     Arrest Year Arrest Date  Arrest Hour  Age Defendant Race  \\\n",
       "0           2021      1/1/21            0   38          BLACK   \n",
       "1           2021      1/1/21            0   31          BLACK   \n",
       "2           2021      1/1/21            0   35          BLACK   \n",
       "3           2021      1/1/21            0   31          BLACK   \n",
       "4           2021      1/1/21            0   21          BLACK   \n",
       "..           ...         ...          ...  ...            ...   \n",
       "195         2021     1/13/21           17   54          BLACK   \n",
       "196         2021     1/13/21           20   28          BLACK   \n",
       "197         2021     1/13/21           20   33          BLACK   \n",
       "198         2021     1/13/21           20   31          BLACK   \n",
       "199         2021     1/13/21           21   34          WHITE   \n",
       "\n",
       "    Defendant Ethnicity Defendant Sex                    Arrest Category  \\\n",
       "0               UNKNOWN          MALE                 Damage to Property   \n",
       "1          NOT HISPANIC          MALE                     Simple Assault   \n",
       "2          NOT HISPANIC          MALE                  Weapon Violations   \n",
       "3          NOT HISPANIC          MALE                  Weapon Violations   \n",
       "4          NOT HISPANIC          MALE                  Weapon Violations   \n",
       "..                  ...           ...                                ...   \n",
       "195        NOT HISPANIC          MALE                 Traffic Violations   \n",
       "196        NOT HISPANIC          MALE    Assault with a Dangerous Weapon   \n",
       "197        NOT HISPANIC          MALE                 Damage to Property   \n",
       "198        NOT HISPANIC          MALE  Driving/Boating While Intoxicated   \n",
       "199        NOT HISPANIC          MALE                     Simple Assault   \n",
       "\n",
       "     Offense Latitude  Offense Longitude   Age_mean crime_occurence_age  \n",
       "0              38.927            -77.006  35.374177                   1  \n",
       "1              38.925            -77.033  35.374177                   0  \n",
       "2              38.900            -76.930  35.374177                   0  \n",
       "3              38.849            -76.976  35.374177                   0  \n",
       "4              38.882            -76.925  35.374177                   0  \n",
       "..                ...                ...        ...                 ...  \n",
       "195            38.905            -77.017  35.374177                   1  \n",
       "196            38.888            -76.919  35.374177                   0  \n",
       "197            38.845            -76.985  35.374177                   0  \n",
       "198            38.902            -76.942  35.374177                   0  \n",
       "199            38.900            -77.018  35.374177                   0  \n",
       "\n",
       "[200 rows x 12 columns]"
      ]
     },
     "execution_count": 73,
     "metadata": {},
     "output_type": "execute_result"
    }
   ],
   "source": [
    "df1 = df.iloc[:200]\n",
    "df1.head(200)"
   ]
  },
  {
   "cell_type": "markdown",
   "id": "a46d3525",
   "metadata": {},
   "source": [
    "## Feature Selection for Clustering Algorithms"
   ]
  },
  {
   "cell_type": "code",
   "execution_count": 74,
   "id": "c1686cbe",
   "metadata": {},
   "outputs": [],
   "source": [
    "features = ['Offense Latitude', 'Offense Longitude']\n",
    "X = df1[features].values\n",
    "y = df1['crime_occurence_age'].astype(float).values"
   ]
  },
  {
   "cell_type": "markdown",
   "id": "77b75b19",
   "metadata": {},
   "source": [
    "## Plotting the actual data to vizualize it"
   ]
  },
  {
   "cell_type": "code",
   "execution_count": 75,
   "id": "a2d8ce87",
   "metadata": {},
   "outputs": [
    {
     "data": {
      "image/png": "[encoded data removed]",
      "text/plain": [
       "<Figure size 640x480 with 1 Axes>"
      ]
     },
     "metadata": {},
     "output_type": "display_data"
    }
   ],
   "source": [
    "plt.scatter(X[:, 0], X[:, 1], s=50);"
   ]
  },
  {
   "cell_type": "markdown",
   "id": "17fdd31d",
   "metadata": {},
   "source": [
    "## Splitting the data"
   ]
  },
  {
   "cell_type": "code",
   "execution_count": 76,
   "id": "ffd933f8",
   "metadata": {},
   "outputs": [],
   "source": [
    "from sklearn.model_selection import train_test_split\n",
    "X_train, X_test, y_train, y_test = train_test_split(X, y, test_size=0.2, random_state=0)"
   ]
  },
  {
   "cell_type": "markdown",
   "id": "423be4bb",
   "metadata": {},
   "source": [
    "## Using the elbow method to find the optimal number of clusters"
   ]
  },
  {
   "cell_type": "code",
   "execution_count": 77,
   "id": "13d68597",
   "metadata": {},
   "outputs": [
    {
     "data": {
      "image/png": "[encoded data removed]",
      "text/plain": [
       "<Figure size 640x480 with 1 Axes>"
      ]
     },
     "metadata": {},
     "output_type": "display_data"
    }
   ],
   "source": [
    "from sklearn.cluster import KMeans\n",
    "wcss = []\n",
    "for i in range(1,11):\n",
    "    kmeans =KMeans(n_clusters =i, init = 'k-means++', max_iter =300, n_init=10, random_state=0)\n",
    "    kmeans.fit(X)\n",
    "    wcss.append(kmeans.inertia_)\n",
    "plt.plot(range(1,11), wcss)\n",
    "plt.title('The Elbow Method')\n",
    "plt.xlabel('Number of clusters')\n",
    "plt.ylabel('WCSS')\n",
    "plt.show()"
   ]
  },
  {
   "cell_type": "markdown",
   "id": "19046888",
   "metadata": {},
   "source": [
    "## Applying kMeans Algorithm"
   ]
  },
  {
   "cell_type": "code",
   "execution_count": 78,
   "id": "7b3a17f8",
   "metadata": {},
   "outputs": [],
   "source": [
    "from sklearn.cluster import KMeans\n",
    "kmeans = KMeans(n_clusters=2)\n",
    "kmeans.fit(X_train)\n",
    "y_pred = kmeans.predict(X_test)"
   ]
  },
  {
   "cell_type": "markdown",
   "id": "a524b40c",
   "metadata": {},
   "source": [
    "## Vizualising the clusters"
   ]
  },
  {
   "cell_type": "code",
   "execution_count": 79,
   "id": "6bf2b72c",
   "metadata": {},
   "outputs": [
    {
     "data": {
      "image/png": "[encoded data removed]",
      "text/plain": [
       "<Figure size 640x480 with 1 Axes>"
      ]
     },
     "metadata": {},
     "output_type": "display_data"
    }
   ],
   "source": [
    "plt.scatter(X_test[:, 0], X_test[:, 1], c=y_pred, s=50, cmap='viridis')\n",
    "\n",
    "centers = kmeans.cluster_centers_\n",
    "plt.scatter(centers[:, 0], centers[:, 1], c='black', s=200, alpha=0.5);"
   ]
  },
  {
   "cell_type": "markdown",
   "id": "c0626d87",
   "metadata": {},
   "source": [
    "## Metrics Calculation"
   ]
  },
  {
   "cell_type": "code",
   "execution_count": 80,
   "id": "019d7e9b",
   "metadata": {},
   "outputs": [],
   "source": [
    "from sklearn.metrics import accuracy_score, precision_score, recall_score, f1_score, confusion_matrix\n",
    "\n",
    "kmeans_accuracy = accuracy_score(y_test, y_pred)\n",
    "kmeans_precison=precision_score(y_test,y_pred,average=None)\n",
    "kmeans_recall=recall_score(y_test,y_pred,average=None)\n",
    "kmeans_f1=f1_score(y_test,y_pred,average=None)\n",
    "kmeans_confusion_matrix = confusion_matrix(y_test, y_pred)"
   ]
  },
  {
   "cell_type": "code",
   "execution_count": 81,
   "id": "2d408f45",
   "metadata": {},
   "outputs": [
    {
     "name": "stdout",
     "output_type": "stream",
     "text": [
      "K-Means\n",
      "Scores\n",
      "Accuracy --> 0.45\n",
      "Precison --> [0.63636364 0.22222222]\n",
      "Recall --> [0.5        0.33333333]\n",
      "F1 --> [0.56       0.26666667]\n",
      "Confusion Matrix\n",
      "[[14 14]\n",
      " [ 8  4]]\n"
     ]
    }
   ],
   "source": [
    "print(\"K-Means\")\n",
    "print(\"Scores\")\n",
    "print(\"Accuracy -->\",kmeans_accuracy)\n",
    "print(\"Precison -->\",kmeans_precison)\n",
    "print(\"Recall -->\",kmeans_recall)\n",
    "print(\"F1 -->\",kmeans_f1)\n",
    "\n",
    "print(\"Confusion Matrix\")\n",
    "print(kmeans_confusion_matrix)"
   ]
  },
  {
   "cell_type": "markdown",
   "id": "7e7ba477",
   "metadata": {},
   "source": [
    "## Applying GMM"
   ]
  },
  {
   "cell_type": "markdown",
   "id": "c792e44d",
   "metadata": {},
   "source": [
    "### Data Cleaning"
   ]
  },
  {
   "cell_type": "code",
   "execution_count": 82,
   "id": "a79d34ba",
   "metadata": {},
   "outputs": [],
   "source": [
    "#converting huge ranges of data to average values\n",
    "import re\n",
    "\n",
    "def extractSubstring(myStr):\n",
    "    if isinstance(myStr, float):\n",
    "        return myStr  # Return the float value as is\n",
    "    elif \"-\" in myStr:\n",
    "        lowVal, hiVal = map(float, re.findall(r'\\d+\\.\\d+|\\d+', myStr))\n",
    "        return (lowVal + hiVal) / 2\n",
    "    else:\n",
    "        return convert_to_float(myStr)\n",
    "\n",
    "def convert_to_float(input_str):\n",
    "    return float(input_str.replace(\",\", \"\"))\n",
    "\n",
    "# Assuming 'df' is your DataFrame\n",
    "df['Offense Latitude'] = df['Offense Latitude'].apply(extractSubstring)\n",
    "df['Offense Longitude'] = df['Offense Longitude'].apply(extractSubstring)\n"
   ]
  },
  {
   "cell_type": "markdown",
   "id": "e3e1274b",
   "metadata": {},
   "source": [
    "### Feature selection"
   ]
  },
  {
   "cell_type": "code",
   "execution_count": 83,
   "id": "112142c9",
   "metadata": {},
   "outputs": [],
   "source": [
    "Features = ['Arrest Hour','Age']\n",
    "X = df[Features].values"
   ]
  },
  {
   "cell_type": "markdown",
   "id": "45aeff45",
   "metadata": {},
   "source": [
    "## Applying GMM"
   ]
  },
  {
   "cell_type": "code",
   "execution_count": 84,
   "id": "fc21f25e",
   "metadata": {},
   "outputs": [],
   "source": [
    "from sklearn.mixture import GaussianMixture\n",
    "gmm = GaussianMixture(n_components=3).fit(X)\n",
    "labels = gmm.predict(X)"
   ]
  },
  {
   "cell_type": "markdown",
   "id": "6b2b8845",
   "metadata": {},
   "source": [
    "## Vizualising the clusters"
   ]
  },
  {
   "cell_type": "code",
   "execution_count": 85,
   "id": "728abe9b",
   "metadata": {},
   "outputs": [
    {
     "data": {
      "text/plain": [
       "Text(0.5, 1.0, 'GMM Clustering')"
      ]
     },
     "execution_count": 85,
     "metadata": {},
     "output_type": "execute_result"
    },
    {
     "data": {
      "image/png": "[encoded data removed]",
      "text/plain": [
       "<Figure size 640x480 with 1 Axes>"
      ]
     },
     "metadata": {},
     "output_type": "display_data"
    }
   ],
   "source": [
    "plt.scatter(X[:, 0], X[:, 1], c=labels, s=80, cmap='viridis');\n",
    "plt.title(\"GMM Clustering\")"
   ]
  },
  {
   "cell_type": "markdown",
   "id": "f2f5f6bb",
   "metadata": {},
   "source": [
    "## Linear Regression"
   ]
  },
  {
   "cell_type": "markdown",
   "id": "0e8e146f",
   "metadata": {},
   "source": [
    "### Feature Selection"
   ]
  },
  {
   "cell_type": "code",
   "execution_count": 86,
   "id": "5a494a1d",
   "metadata": {},
   "outputs": [],
   "source": [
    "X1 = df[['Arrest Hour']].astype(float).values\n",
    "y1 = df['Age'].astype(int).values"
   ]
  },
  {
   "cell_type": "markdown",
   "id": "47d94a93",
   "metadata": {},
   "source": [
    "### Splitting the data"
   ]
  },
  {
   "cell_type": "code",
   "execution_count": 87,
   "id": "74d3c7b5",
   "metadata": {},
   "outputs": [],
   "source": [
    "X1_train, X1_test, y1_train, y1_test = train_test_split(X1, y1, test_size=0.2, random_state=0)"
   ]
  },
  {
   "cell_type": "markdown",
   "id": "ec042354",
   "metadata": {},
   "source": [
    "### Fitting the model"
   ]
  },
  {
   "cell_type": "code",
   "execution_count": 88,
   "id": "ca1cd4a2",
   "metadata": {},
   "outputs": [
    {
     "data": {
      "text/plain": [
       "LinearRegression()"
      ]
     },
     "execution_count": 88,
     "metadata": {},
     "output_type": "execute_result"
    }
   ],
   "source": [
    "from sklearn import datasets, linear_model\n",
    "regr = linear_model.LinearRegression()\n",
    "regr.fit(X1_train, y1_train)"
   ]
  },
  {
   "cell_type": "markdown",
   "id": "f184ad27",
   "metadata": {},
   "source": [
    "### Predicting the values"
   ]
  },
  {
   "cell_type": "code",
   "execution_count": 89,
   "id": "46f69d61",
   "metadata": {},
   "outputs": [],
   "source": [
    "y_pred = regr.predict(X1_test)"
   ]
  },
  {
   "cell_type": "markdown",
   "id": "7efdd7a9",
   "metadata": {},
   "source": [
    "### Vizualisation of plots"
   ]
  },
  {
   "cell_type": "code",
   "execution_count": 90,
   "id": "630a5d49",
   "metadata": {},
   "outputs": [
    {
     "data": {
      "image/png": "[encoded data removed]",
      "text/plain": [
       "<Figure size 640x480 with 1 Axes>"
      ]
     },
     "metadata": {},
     "output_type": "display_data"
    }
   ],
   "source": [
    "plt.scatter(X1_test, y1_test,  color='red')\n",
    "plt.plot(X1_test, y_pred, color='blue', linewidth=3)\n",
    "\n",
    "plt.title('Arrest Hour vs Age')\n",
    "plt.xlabel('Arrest Hour')\n",
    "plt.ylabel('Age')\n",
    "\n",
    "plt.yticks(())\n",
    "plt.show()"
   ]
  },
  {
   "cell_type": "markdown",
   "id": "39d78a8e",
   "metadata": {},
   "source": [
    "## Logistic Regression"
   ]
  },
  {
   "cell_type": "code",
   "execution_count": 91,
   "id": "8c883ee7",
   "metadata": {},
   "outputs": [],
   "source": [
    "import statsmodels.api as sm\n",
    "import matplotlib.pyplot as plt\n",
    "import seaborn as sns\n",
    "from sklearn import metrics\n",
    "from patsy import dmatrices\n",
    "from sklearn.linear_model import LogisticRegression\n",
    "from sklearn.model_selection import train_test_split, cross_val_score\n"
   ]
  },
  {
   "cell_type": "markdown",
   "id": "8298d0d2",
   "metadata": {},
   "source": [
    "### Data Slicing"
   ]
  },
  {
   "cell_type": "code",
   "execution_count": 92,
   "id": "adf2deaf",
   "metadata": {},
   "outputs": [],
   "source": [
    "df1 = df.iloc[:200]"
   ]
  },
  {
   "cell_type": "markdown",
   "id": "6dd7d11f",
   "metadata": {},
   "source": [
    "### Visualizing Selected Features by plotting their Histograms"
   ]
  },
  {
   "cell_type": "code",
   "execution_count": 93,
   "id": "8be2d6a2",
   "metadata": {},
   "outputs": [],
   "source": [
    "age_data = df['Age'].astype(float)"
   ]
  },
  {
   "cell_type": "code",
   "execution_count": 94,
   "id": "c0210a4d",
   "metadata": {},
   "outputs": [],
   "source": [
    "age_data.replace('?','0', inplace = True)"
   ]
  },
  {
   "cell_type": "code",
   "execution_count": 95,
   "id": "32181380",
   "metadata": {},
   "outputs": [
    {
     "data": {
      "image/png": "[encoded data removed]",
      "text/plain": [
       "<Figure size 800x600 with 1 Axes>"
      ]
     },
     "metadata": {},
     "output_type": "display_data"
    }
   ],
   "source": [
    "%matplotlib inline\n",
    "plt.figure(figsize=(8, 6))\n",
    "age_data.hist()\n",
    "plt.title('Histogram of Age')\n",
    "plt.xlabel('Age')\n",
    "plt.ylabel('Frequency')\n",
    "plt.show()"
   ]
  },
  {
   "cell_type": "markdown",
   "id": "4c5a0ce3",
   "metadata": {},
   "source": [
    "### Plotting the features to analyze the label and its frequency"
   ]
  },
  {
   "cell_type": "code",
   "execution_count": 96,
   "id": "2fb0d4e4",
   "metadata": {},
   "outputs": [],
   "source": [
    "# pd.crosstab(age_data, df1.crime_occurence_age).plot(kind='bar')\n",
    "# plt.title('Arrests by Age')\n",
    "# plt.xlabel('Age')\n",
    "# plt.xticks(rotation='vertical')\n",
    "# plt.ylabel('Frequency')\n",
    "# plt.show"
   ]
  },
  {
   "cell_type": "code",
   "execution_count": 97,
   "id": "cde3b686",
   "metadata": {},
   "outputs": [],
   "source": [
    "X_LogReg= ['Age', 'Arrest Year', 'Arrest Hour', 'Offense Latitude', 'Offense Longitude']"
   ]
  },
  {
   "cell_type": "code",
   "execution_count": 98,
   "id": "4d37bc65",
   "metadata": {},
   "outputs": [],
   "source": [
    "y_LogReg = df1[['crime_occurence_age']]"
   ]
  },
  {
   "cell_type": "markdown",
   "id": "5f714a8c",
   "metadata": {},
   "source": [
    "### Training the Model"
   ]
  },
  {
   "cell_type": "code",
   "execution_count": 99,
   "id": "e7e4650c",
   "metadata": {},
   "outputs": [],
   "source": [
    "X_train_LogReg, X_test_LogReg, y_train_LogReg, y_test_LogReg = train_test_split(df1[X_LogReg], y_LogReg, test_size=0.2, random_state=0)"
   ]
  },
  {
   "cell_type": "code",
   "execution_count": 100,
   "id": "aec6e277",
   "metadata": {},
   "outputs": [
    {
     "name": "stderr",
     "output_type": "stream",
     "text": [
      "c:\\python 3.9\\lib\\site-packages\\sklearn\\utils\\validation.py:63: DataConversionWarning: A column-vector y was passed when a 1d array was expected. Please change the shape of y to (n_samples, ), for example using ravel().\n",
      "  return f(*args, **kwargs)\n"
     ]
    },
    {
     "data": {
      "text/plain": [
       "LogisticRegression()"
      ]
     },
     "execution_count": 100,
     "metadata": {},
     "output_type": "execute_result"
    }
   ],
   "source": [
    "logreg = LogisticRegression()\n",
    "logreg.fit(X_train_LogReg, y_train_LogReg)"
   ]
  },
  {
   "cell_type": "markdown",
   "id": "98a7c7e4",
   "metadata": {},
   "source": [
    "## Metrics"
   ]
  },
  {
   "cell_type": "code",
   "execution_count": 101,
   "id": "1e373720",
   "metadata": {},
   "outputs": [
    {
     "name": "stdout",
     "output_type": "stream",
     "text": [
      "Accuracy of logistic regression classifier on test set: 0.97\n"
     ]
    }
   ],
   "source": [
    "y_pred_LogReg = logreg.predict(X_test_LogReg)\n",
    "print('Accuracy of logistic regression classifier on test set: {:.2f}'.format(logreg.score(X_test_LogReg, y_test_LogReg)))"
   ]
  },
  {
   "cell_type": "markdown",
   "id": "d56834bb",
   "metadata": {},
   "source": [
    "### Creating the Confusion Matrix to make further conclusion"
   ]
  },
  {
   "cell_type": "code",
   "execution_count": 102,
   "id": "5fa90c4d",
   "metadata": {},
   "outputs": [
    {
     "name": "stdout",
     "output_type": "stream",
     "text": [
      "Model Accuracy for Logistic Regression: 0.975\n"
     ]
    },
    {
     "data": {
      "image/png": "[encoded data removed]",
      "text/plain": [
       "<Figure size 640x480 with 2 Axes>"
      ]
     },
     "metadata": {},
     "output_type": "display_data"
    }
   ],
   "source": [
    "cnf_matrix_LogitRegression = metrics.confusion_matrix(y_test_LogReg, y_pred_LogReg)\n",
    "cnf_matrix_LogitRegression\n",
    "\n",
    "class_names=[0,1] \n",
    "fig, ax = plt.subplots()\n",
    "tick_marks = np.arange(len(class_names))\n",
    "plt.xticks(tick_marks, class_names)\n",
    "plt.yticks(tick_marks, class_names)\n",
    "\n",
    "# create heatmap\n",
    "sns.heatmap(pd.DataFrame(cnf_matrix_LogitRegression), annot=True, cmap=\"YlGnBu\" ,fmt='g')\n",
    "ax.xaxis.set_label_position(\"top\")\n",
    "plt.tight_layout()\n",
    "plt.title('Confusion matrix for Logistic Regression', y=1.1)\n",
    "plt.ylabel('Actual label')\n",
    "plt.xlabel('Predicted label')\n",
    "print(\"Model Accuracy for Logistic Regression:\",metrics.accuracy_score(y_test_LogReg, y_pred_LogReg))"
   ]
  },
  {
   "cell_type": "markdown",
   "id": "4f504918",
   "metadata": {},
   "source": [
    "## Decision Tree"
   ]
  },
  {
   "cell_type": "code",
   "execution_count": 103,
   "id": "45f4d35e",
   "metadata": {},
   "outputs": [],
   "source": [
    "from sklearn.tree import DecisionTreeClassifier\n",
    "from sklearn.metrics import accuracy_score\n",
    "from sklearn import tree"
   ]
  },
  {
   "cell_type": "code",
   "execution_count": 104,
   "id": "26998849",
   "metadata": {},
   "outputs": [],
   "source": [
    "df = df[['Arrest Year', 'Arrest Hour', 'Age', 'Offense Latitude', 'Offense Longitude', 'crime_occurence_age']]\n",
    "df = df\n",
    "X_DecisionTree = df.drop('crime_occurence_age', axis=1)\n",
    "Y_DecisionTree = df['crime_occurence_age']"
   ]
  },
  {
   "cell_type": "code",
   "execution_count": 105,
   "id": "dcf6025b",
   "metadata": {},
   "outputs": [],
   "source": [
    "from sklearn.model_selection import train_test_split\n",
    "X_train_DecisionTree, X_test_DecisionTree, Y_train_DecisionTree, Y_test_DecisionTree = train_test_split(X_DecisionTree, Y_DecisionTree, random_state=1)"
   ]
  },
  {
   "cell_type": "markdown",
   "id": "2501361d",
   "metadata": {},
   "source": [
    "## Implementing Decision Tree Classifier"
   ]
  },
  {
   "cell_type": "code",
   "execution_count": 106,
   "id": "e8df2697",
   "metadata": {},
   "outputs": [
    {
     "data": {
      "text/plain": [
       "DecisionTreeClassifier(max_depth=20, min_samples_leaf=6, min_samples_split=9,\n",
       "                       random_state=100)"
      ]
     },
     "execution_count": 106,
     "metadata": {},
     "output_type": "execute_result"
    }
   ],
   "source": [
    "clf_gini = DecisionTreeClassifier(criterion = \"gini\", random_state = 100,max_depth=20, min_samples_split=9, min_samples_leaf=6)\n",
    "clf_gini"
   ]
  },
  {
   "cell_type": "code",
   "execution_count": 107,
   "id": "e99c05db",
   "metadata": {},
   "outputs": [
    {
     "data": {
      "text/plain": [
       "DecisionTreeClassifier(max_depth=20, min_samples_leaf=6, min_samples_split=9,\n",
       "                       random_state=100)"
      ]
     },
     "execution_count": 107,
     "metadata": {},
     "output_type": "execute_result"
    }
   ],
   "source": [
    "clf_gini.fit(X_train_DecisionTree, Y_train_DecisionTree)"
   ]
  },
  {
   "cell_type": "code",
   "execution_count": 108,
   "id": "ae748eb5",
   "metadata": {},
   "outputs": [
    {
     "data": {
      "text/plain": [
       "array(['1', '1', '1', ..., '1', '0', '0'], dtype=object)"
      ]
     },
     "execution_count": 108,
     "metadata": {},
     "output_type": "execute_result"
    }
   ],
   "source": [
    "Y_Pred_DecisionTree = clf_gini.predict(X_test_DecisionTree)\n",
    "Y_Pred_DecisionTree"
   ]
  },
  {
   "cell_type": "markdown",
   "id": "90d1c459",
   "metadata": {},
   "source": [
    "## Metrics"
   ]
  },
  {
   "cell_type": "code",
   "execution_count": 109,
   "id": "c7bc2c02",
   "metadata": {},
   "outputs": [
    {
     "data": {
      "text/plain": [
       "100.0"
      ]
     },
     "execution_count": 109,
     "metadata": {},
     "output_type": "execute_result"
    }
   ],
   "source": [
    "ac=accuracy_score(Y_test_DecisionTree, Y_Pred_DecisionTree)*100\n",
    "ac"
   ]
  },
  {
   "cell_type": "markdown",
   "id": "e17c5636",
   "metadata": {},
   "source": [
    "## Plotting the tree"
   ]
  },
  {
   "cell_type": "code",
   "execution_count": 110,
   "id": "0d4d7223",
   "metadata": {},
   "outputs": [
    {
     "data": {
      "image/svg+xml": [
       "<?xml version=\"1.0\" encoding=\"UTF-8\" standalone=\"no\"?>\n",
       "<!DOCTYPE svg PUBLIC \"-//W3C//DTD SVG 1.1//EN\"\n",
       " \"http://www.w3.org/Graphics/SVG/1.1/DTD/svg11.dtd\">\n",
       "<!-- Generated by graphviz version 10.0.1 (20240210.2158)\n",
       " -->\n",
       "<!-- Title: Tree Pages: 1 -->\n",
       "<svg width=\"248pt\" height=\"202pt\"\n",
       " viewBox=\"0.00 0.00 247.50 201.75\" xmlns=\"http://www.w3.org/2000/svg\" xmlns:xlink=\"http://www.w3.org/1999/xlink\">\n",
       "<g id=\"graph0\" class=\"graph\" transform=\"scale(1 1) rotate(0) translate(4 197.75)\">\n",
       "<title>Tree</title>\n",
       "<polygon fill=\"white\" stroke=\"none\" points=\"-4,4 -4,-197.75 243.5,-197.75 243.5,4 -4,4\"/>\n",
       "<!-- 0 -->\n",
       "<g id=\"node1\" class=\"node\">\n",
       "<title>0</title>\n",
       "<polygon fill=\"none\" stroke=\"black\" points=\"184.62,-193.75 53.88,-193.75 53.88,-107 184.62,-107 184.62,-193.75\"/>\n",
       "<text text-anchor=\"middle\" x=\"119.25\" y=\"-176.45\" font-family=\"Times New Roman,serif\" font-size=\"14.00\">Age &lt;= 35.5</text>\n",
       "<text text-anchor=\"middle\" x=\"119.25\" y=\"-160.7\" font-family=\"Times New Roman,serif\" font-size=\"14.00\">gini = 0.483</text>\n",
       "<text text-anchor=\"middle\" x=\"119.25\" y=\"-144.95\" font-family=\"Times New Roman,serif\" font-size=\"14.00\">samples = 11739</text>\n",
       "<text text-anchor=\"middle\" x=\"119.25\" y=\"-129.2\" font-family=\"Times New Roman,serif\" font-size=\"14.00\">value = [6956, 4783]</text>\n",
       "<text text-anchor=\"middle\" x=\"119.25\" y=\"-113.45\" font-family=\"Times New Roman,serif\" font-size=\"14.00\">class = 0</text>\n",
       "</g>\n",
       "<!-- 1 -->\n",
       "<g id=\"node2\" class=\"node\">\n",
       "<title>1</title>\n",
       "<polygon fill=\"none\" stroke=\"black\" points=\"110.5,-71 0,-71 0,0 110.5,0 110.5,-71\"/>\n",
       "<text text-anchor=\"middle\" x=\"55.25\" y=\"-53.7\" font-family=\"Times New Roman,serif\" font-size=\"14.00\">gini = 0.0</text>\n",
       "<text text-anchor=\"middle\" x=\"55.25\" y=\"-37.95\" font-family=\"Times New Roman,serif\" font-size=\"14.00\">samples = 6956</text>\n",
       "<text text-anchor=\"middle\" x=\"55.25\" y=\"-22.2\" font-family=\"Times New Roman,serif\" font-size=\"14.00\">value = [6956, 0]</text>\n",
       "<text text-anchor=\"middle\" x=\"55.25\" y=\"-6.45\" font-family=\"Times New Roman,serif\" font-size=\"14.00\">class = 0</text>\n",
       "</g>\n",
       "<!-- 0&#45;&gt;1 -->\n",
       "<g id=\"edge1\" class=\"edge\">\n",
       "<title>0&#45;&gt;1</title>\n",
       "<path fill=\"none\" stroke=\"black\" d=\"M95.05,-106.7C90.27,-98.27 85.24,-89.39 80.43,-80.9\"/>\n",
       "<polygon fill=\"black\" stroke=\"black\" points=\"83.62,-79.45 75.65,-72.47 77.53,-82.9 83.62,-79.45\"/>\n",
       "<text text-anchor=\"middle\" x=\"68.24\" y=\"-89.83\" font-family=\"Times New Roman,serif\" font-size=\"14.00\">True</text>\n",
       "</g>\n",
       "<!-- 2 -->\n",
       "<g id=\"node3\" class=\"node\">\n",
       "<title>2</title>\n",
       "<polygon fill=\"none\" stroke=\"black\" points=\"239.5,-71 129,-71 129,0 239.5,0 239.5,-71\"/>\n",
       "<text text-anchor=\"middle\" x=\"184.25\" y=\"-53.7\" font-family=\"Times New Roman,serif\" font-size=\"14.00\">gini = 0.0</text>\n",
       "<text text-anchor=\"middle\" x=\"184.25\" y=\"-37.95\" font-family=\"Times New Roman,serif\" font-size=\"14.00\">samples = 4783</text>\n",
       "<text text-anchor=\"middle\" x=\"184.25\" y=\"-22.2\" font-family=\"Times New Roman,serif\" font-size=\"14.00\">value = [0, 4783]</text>\n",
       "<text text-anchor=\"middle\" x=\"184.25\" y=\"-6.45\" font-family=\"Times New Roman,serif\" font-size=\"14.00\">class = 1</text>\n",
       "</g>\n",
       "<!-- 0&#45;&gt;2 -->\n",
       "<g id=\"edge2\" class=\"edge\">\n",
       "<title>0&#45;&gt;2</title>\n",
       "<path fill=\"none\" stroke=\"black\" d=\"M143.82,-106.7C148.68,-98.27 153.79,-89.39 158.68,-80.9\"/>\n",
       "<polygon fill=\"black\" stroke=\"black\" points=\"161.58,-82.88 163.54,-72.47 155.51,-79.39 161.58,-82.88\"/>\n",
       "<text text-anchor=\"middle\" x=\"170.79\" y=\"-89.87\" font-family=\"Times New Roman,serif\" font-size=\"14.00\">False</text>\n",
       "</g>\n",
       "</g>\n",
       "</svg>\n"
      ],
      "text/plain": [
       "<graphviz.sources.Source at 0x24bc15466d0>"
      ]
     },
     "execution_count": 110,
     "metadata": {},
     "output_type": "execute_result"
    }
   ],
   "source": [
    "import graphviz \n",
    "dot_data = tree.export_graphviz(clf_gini, out_file=None, feature_names=X_DecisionTree.columns, class_names=['0','1'])\n",
    "graph = graphviz.Source(dot_data) \n",
    "graph.render(\"crime\") \n",
    "graph"
   ]
  },
  {
   "cell_type": "markdown",
   "id": "046e6ee3",
   "metadata": {},
   "source": [
    "## Confusion Matrix"
   ]
  },
  {
   "cell_type": "code",
   "execution_count": 111,
   "id": "12c339f9",
   "metadata": {},
   "outputs": [
    {
     "name": "stdout",
     "output_type": "stream",
     "text": [
      "Model Accuracy for Random Forest: 1.0\n"
     ]
    },
    {
     "data": {
      "image/png": "[encoded data removed]",
      "text/plain": [
       "<Figure size 640x480 with 2 Axes>"
      ]
     },
     "metadata": {},
     "output_type": "display_data"
    }
   ],
   "source": [
    "# For Decision Tree\n",
    "cnf_matrix_DecisionTree = metrics.confusion_matrix(Y_test_DecisionTree, Y_Pred_DecisionTree)\n",
    "cnf_matrix_DecisionTree\n",
    "# name  of classes\n",
    "class_names=[0,1] \n",
    "fig, ax = plt.subplots()\n",
    "tick_marks = np.arange(len(class_names))\n",
    "plt.xticks(tick_marks, class_names)\n",
    "plt.yticks(tick_marks, class_names)\n",
    "\n",
    "# create heatmap\n",
    "sns.heatmap(pd.DataFrame(cnf_matrix_DecisionTree), annot=True, cmap=\"YlGnBu\" ,fmt='g')\n",
    "ax.xaxis.set_label_position(\"top\")\n",
    "plt.tight_layout()\n",
    "plt.title('Confusion matrix for Decision Tree', y=1.1)\n",
    "plt.ylabel('Actual label')\n",
    "plt.xlabel('Predicted label')\n",
    "print(\"Model Accuracy for Random Forest:\",metrics.accuracy_score(Y_test_DecisionTree, Y_Pred_DecisionTree))"
   ]
  },
  {
   "cell_type": "markdown",
   "id": "1f97821d",
   "metadata": {},
   "source": [
    "# Gaussian Naive Bayes Classifier"
   ]
  },
  {
   "cell_type": "markdown",
   "id": "45166030",
   "metadata": {},
   "source": [
    "## Label Creation"
   ]
  },
  {
   "cell_type": "code",
   "execution_count": 112,
   "id": "5f418ecf",
   "metadata": {},
   "outputs": [
    {
     "name": "stdout",
     "output_type": "stream",
     "text": [
      "Mean Age: 35.374177473966654\n"
     ]
    }
   ],
   "source": [
    "age = list(map(float, df['Age']))\n",
    "age_mean = sum(age) / len(age)\n",
    "print(\"Mean Age:\", age_mean)"
   ]
  },
  {
   "cell_type": "code",
   "execution_count": 113,
   "id": "db7cbd72",
   "metadata": {},
   "outputs": [
    {
     "name": "stderr",
     "output_type": "stream",
     "text": [
      "C:\\Users\\JNR_A_R_Y_A\\AppData\\Local\\Temp\\ipykernel_16960\\4166570457.py:3: FutureWarning: The default value of numeric_only in DataFrameGroupBy.mean is deprecated. In a future version, numeric_only will default to False. Either specify numeric_only or select only columns which should be valid for the function.\n",
      "  df.groupby('age_occurence').mean()\n"
     ]
    },
    {
     "data": {
      "text/html": [
       "<div>\n",
       "<style scoped>\n",
       "    .dataframe tbody tr th:only-of-type {\n",
       "        vertical-align: middle;\n",
       "    }\n",
       "\n",
       "    .dataframe tbody tr th {\n",
       "        vertical-align: top;\n",
       "    }\n",
       "\n",
       "    .dataframe thead th {\n",
       "        text-align: right;\n",
       "    }\n",
       "</style>\n",
       "<table border=\"1\" class=\"dataframe\">\n",
       "  <thead>\n",
       "    <tr style=\"text-align: right;\">\n",
       "      <th></th>\n",
       "      <th>Arrest Year</th>\n",
       "      <th>Arrest Hour</th>\n",
       "      <th>Age</th>\n",
       "      <th>Offense Latitude</th>\n",
       "      <th>Offense Longitude</th>\n",
       "      <th>mean_age</th>\n",
       "    </tr>\n",
       "    <tr>\n",
       "      <th>age_occurence</th>\n",
       "      <th></th>\n",
       "      <th></th>\n",
       "      <th></th>\n",
       "      <th></th>\n",
       "      <th></th>\n",
       "      <th></th>\n",
       "    </tr>\n",
       "  </thead>\n",
       "  <tbody>\n",
       "    <tr>\n",
       "      <th>no</th>\n",
       "      <td>2021.0</td>\n",
       "      <td>12.743929</td>\n",
       "      <td>26.988725</td>\n",
       "      <td>38.855876</td>\n",
       "      <td>-76.915434</td>\n",
       "      <td>35.374177</td>\n",
       "    </tr>\n",
       "    <tr>\n",
       "      <th>yes</th>\n",
       "      <td>2021.0</td>\n",
       "      <td>12.925027</td>\n",
       "      <td>47.405195</td>\n",
       "      <td>38.824105</td>\n",
       "      <td>-76.849981</td>\n",
       "      <td>35.374177</td>\n",
       "    </tr>\n",
       "  </tbody>\n",
       "</table>\n",
       "</div>"
      ],
      "text/plain": [
       "               Arrest Year  Arrest Hour        Age  Offense Latitude  \\\n",
       "age_occurence                                                          \n",
       "no                  2021.0    12.743929  26.988725         38.855876   \n",
       "yes                 2021.0    12.925027  47.405195         38.824105   \n",
       "\n",
       "               Offense Longitude   mean_age  \n",
       "age_occurence                                \n",
       "no                    -76.915434  35.374177  \n",
       "yes                   -76.849981  35.374177  "
      ]
     },
     "execution_count": 113,
     "metadata": {},
     "output_type": "execute_result"
    }
   ],
   "source": [
    "df['mean_age'] = age_mean\n",
    "df['age_occurence'] = np.where(age>=df['mean_age'], 'yes', 'no')\n",
    "df.groupby('age_occurence').mean()"
   ]
  },
  {
   "cell_type": "markdown",
   "id": "c5e5a6c8",
   "metadata": {},
   "source": [
    "## Data Slicing\n"
   ]
  },
  {
   "cell_type": "code",
   "execution_count": 114,
   "id": "18bd7ba4",
   "metadata": {},
   "outputs": [],
   "source": [
    "df1 = df.iloc[:700]"
   ]
  },
  {
   "cell_type": "markdown",
   "id": "3adf6ba2",
   "metadata": {},
   "source": [
    "## Applying Gaussian NB classifier"
   ]
  },
  {
   "cell_type": "code",
   "execution_count": 115,
   "id": "d206c34d",
   "metadata": {},
   "outputs": [],
   "source": [
    "X_NaiveBayes= [ 'Arrest Hour', 'Age', 'Offense Latitude', 'Offense Longitude', 'crime_occurence_age']\n",
    "Y_NaiveBayes = df1[['age_occurence']]"
   ]
  },
  {
   "cell_type": "code",
   "execution_count": 116,
   "id": "16f8211e",
   "metadata": {},
   "outputs": [],
   "source": [
    "X_train_NaiveBayes, X_test_NaiveBayes, Y_train_NaiveBayes, Y_test_NaiveBayes = train_test_split(df1[X_NaiveBayes], Y_NaiveBayes, test_size=0.2, random_state=0)"
   ]
  },
  {
   "cell_type": "code",
   "execution_count": 117,
   "id": "7e6a5f90",
   "metadata": {},
   "outputs": [],
   "source": [
    "from sklearn.naive_bayes import GaussianNB\n",
    "model = GaussianNB()"
   ]
  },
  {
   "cell_type": "code",
   "execution_count": 118,
   "id": "5541efb1",
   "metadata": {},
   "outputs": [
    {
     "name": "stderr",
     "output_type": "stream",
     "text": [
      "c:\\python 3.9\\lib\\site-packages\\sklearn\\utils\\validation.py:63: DataConversionWarning: A column-vector y was passed when a 1d array was expected. Please change the shape of y to (n_samples, ), for example using ravel().\n",
      "  return f(*args, **kwargs)\n"
     ]
    },
    {
     "data": {
      "text/plain": [
       "GaussianNB()"
      ]
     },
     "execution_count": 118,
     "metadata": {},
     "output_type": "execute_result"
    }
   ],
   "source": [
    "model.fit(X_train_NaiveBayes, Y_train_NaiveBayes)"
   ]
  },
  {
   "cell_type": "code",
   "execution_count": 119,
   "id": "f6c0bfe2",
   "metadata": {},
   "outputs": [
    {
     "name": "stdout",
     "output_type": "stream",
     "text": [
      "Accuracy of Gaussian Naive Bayes classifier on test set: 1.00\n"
     ]
    }
   ],
   "source": [
    "Y_Pred_NaiveBayes = model.predict(X_test_NaiveBayes)\n",
    "print('Accuracy of Gaussian Naive Bayes classifier on test set: {:.2f}'.format(model.score(X_test_NaiveBayes, Y_test_NaiveBayes)))"
   ]
  },
  {
   "cell_type": "markdown",
   "id": "2447070d",
   "metadata": {},
   "source": [
    "## Corelation matrix showing the features"
   ]
  },
  {
   "cell_type": "code",
   "execution_count": 120,
   "id": "db55d31f",
   "metadata": {},
   "outputs": [
    {
     "name": "stderr",
     "output_type": "stream",
     "text": [
      "C:\\Users\\JNR_A_R_Y_A\\AppData\\Local\\Temp\\ipykernel_16960\\444616807.py:1: FutureWarning: The default value of numeric_only in DataFrame.corr is deprecated. In a future version, it will default to False. Select only valid columns or specify the value of numeric_only to silence this warning.\n",
      "  df1[X_NaiveBayes].corr()\n"
     ]
    },
    {
     "data": {
      "text/html": [
       "<div>\n",
       "<style scoped>\n",
       "    .dataframe tbody tr th:only-of-type {\n",
       "        vertical-align: middle;\n",
       "    }\n",
       "\n",
       "    .dataframe tbody tr th {\n",
       "        vertical-align: top;\n",
       "    }\n",
       "\n",
       "    .dataframe thead th {\n",
       "        text-align: right;\n",
       "    }\n",
       "</style>\n",
       "<table border=\"1\" class=\"dataframe\">\n",
       "  <thead>\n",
       "    <tr style=\"text-align: right;\">\n",
       "      <th></th>\n",
       "      <th>Arrest Hour</th>\n",
       "      <th>Age</th>\n",
       "      <th>Offense Latitude</th>\n",
       "      <th>Offense Longitude</th>\n",
       "    </tr>\n",
       "  </thead>\n",
       "  <tbody>\n",
       "    <tr>\n",
       "      <th>Arrest Hour</th>\n",
       "      <td>1.000000</td>\n",
       "      <td>0.068555</td>\n",
       "      <td>0.029208</td>\n",
       "      <td>-0.071493</td>\n",
       "    </tr>\n",
       "    <tr>\n",
       "      <th>Age</th>\n",
       "      <td>0.068555</td>\n",
       "      <td>1.000000</td>\n",
       "      <td>0.049672</td>\n",
       "      <td>-0.130302</td>\n",
       "    </tr>\n",
       "    <tr>\n",
       "      <th>Offense Latitude</th>\n",
       "      <td>0.029208</td>\n",
       "      <td>0.049672</td>\n",
       "      <td>1.000000</td>\n",
       "      <td>-0.375405</td>\n",
       "    </tr>\n",
       "    <tr>\n",
       "      <th>Offense Longitude</th>\n",
       "      <td>-0.071493</td>\n",
       "      <td>-0.130302</td>\n",
       "      <td>-0.375405</td>\n",
       "      <td>1.000000</td>\n",
       "    </tr>\n",
       "  </tbody>\n",
       "</table>\n",
       "</div>"
      ],
      "text/plain": [
       "                   Arrest Hour       Age  Offense Latitude  Offense Longitude\n",
       "Arrest Hour           1.000000  0.068555          0.029208          -0.071493\n",
       "Age                   0.068555  1.000000          0.049672          -0.130302\n",
       "Offense Latitude      0.029208  0.049672          1.000000          -0.375405\n",
       "Offense Longitude    -0.071493 -0.130302         -0.375405           1.000000"
      ]
     },
     "execution_count": 120,
     "metadata": {},
     "output_type": "execute_result"
    }
   ],
   "source": [
    "df1[X_NaiveBayes].corr()"
   ]
  },
  {
   "cell_type": "markdown",
   "id": "524cbcb6",
   "metadata": {},
   "source": [
    "## Corelation Heatmap for better visualization"
   ]
  },
  {
   "cell_type": "code",
   "execution_count": 121,
   "id": "9a11bb02",
   "metadata": {},
   "outputs": [
    {
     "name": "stderr",
     "output_type": "stream",
     "text": [
      "C:\\Users\\JNR_A_R_Y_A\\AppData\\Local\\Temp\\ipykernel_16960\\1545454869.py:2: FutureWarning: The default value of numeric_only in DataFrame.corr is deprecated. In a future version, it will default to False. Select only valid columns or specify the value of numeric_only to silence this warning.\n",
      "  sns.heatmap(df1[X_NaiveBayes].corr(), annot=True, fmt=\".1f\")\n"
     ]
    },
    {
     "data": {
      "image/png": "[encoded data removed]",
      "text/plain": [
       "<Figure size 640x480 with 2 Axes>"
      ]
     },
     "metadata": {},
     "output_type": "display_data"
    }
   ],
   "source": [
    "import seaborn as sns\n",
    "sns.heatmap(df1[X_NaiveBayes].corr(), annot=True, fmt=\".1f\")\n",
    "plt.show()"
   ]
  },
  {
   "cell_type": "markdown",
   "id": "8f611965",
   "metadata": {},
   "source": [
    "## Confusion Matrix"
   ]
  },
  {
   "cell_type": "code",
   "execution_count": 122,
   "id": "f2057f2a",
   "metadata": {},
   "outputs": [
    {
     "name": "stdout",
     "output_type": "stream",
     "text": [
      "Model Accuracy for Random Forest: 1.0\n"
     ]
    },
    {
     "data": {
      "image/png": "[encoded data removed]",
      "text/plain": [
       "<Figure size 640x480 with 2 Axes>"
      ]
     },
     "metadata": {},
     "output_type": "display_data"
    }
   ],
   "source": [
    "cnf_matrix_NaiveBayes = metrics.confusion_matrix(Y_test_NaiveBayes, Y_Pred_NaiveBayes)\n",
    "cnf_matrix_NaiveBayes\n",
    "# name  of classes\n",
    "class_names=[0,1] \n",
    "fig, ax = plt.subplots()\n",
    "tick_marks = np.arange(len(class_names))\n",
    "plt.xticks(tick_marks, class_names)\n",
    "plt.yticks(tick_marks, class_names)\n",
    "\n",
    "# create heatmap\n",
    "sns.heatmap(pd.DataFrame(cnf_matrix_NaiveBayes), annot=True, cmap=\"YlGnBu\" ,fmt='g')\n",
    "ax.xaxis.set_label_position(\"top\")\n",
    "plt.tight_layout()\n",
    "plt.title('Confusion matrix for Naive Bayes', y=1.1)\n",
    "plt.ylabel('Actual label')\n",
    "plt.xlabel('Predicted label')\n",
    "print(\"Model Accuracy for Random Forest:\",metrics.accuracy_score(Y_test_NaiveBayes, Y_Pred_NaiveBayes))"
   ]
  },
  {
   "cell_type": "markdown",
   "id": "b03815cd",
   "metadata": {},
   "source": [
    "## Gaussian Naive Bayes Classifier"
   ]
  },
  {
   "cell_type": "markdown",
   "id": "b851035b",
   "metadata": {},
   "source": [
    "## Label Creation"
   ]
  },
  {
   "cell_type": "code",
   "execution_count": 123,
   "id": "f40bacbb",
   "metadata": {},
   "outputs": [
    {
     "data": {
      "text/plain": [
       "35.374177473966654"
      ]
     },
     "execution_count": 123,
     "metadata": {},
     "output_type": "execute_result"
    }
   ],
   "source": [
    "age = list(map(float, df.Age))\n",
    "age_mean = sum(age)/len(age)\n",
    "age_mean"
   ]
  },
  {
   "cell_type": "code",
   "execution_count": 124,
   "id": "479dad04",
   "metadata": {},
   "outputs": [
    {
     "name": "stderr",
     "output_type": "stream",
     "text": [
      "C:\\Users\\JNR_A_R_Y_A\\AppData\\Local\\Temp\\ipykernel_16960\\2951576386.py:3: FutureWarning: The default value of numeric_only in DataFrameGroupBy.mean is deprecated. In a future version, numeric_only will default to False. Either specify numeric_only or select only columns which should be valid for the function.\n",
      "  df.groupby('Age_occurence').mean()\n"
     ]
    },
    {
     "data": {
      "text/html": [
       "<div>\n",
       "<style scoped>\n",
       "    .dataframe tbody tr th:only-of-type {\n",
       "        vertical-align: middle;\n",
       "    }\n",
       "\n",
       "    .dataframe tbody tr th {\n",
       "        vertical-align: top;\n",
       "    }\n",
       "\n",
       "    .dataframe thead th {\n",
       "        text-align: right;\n",
       "    }\n",
       "</style>\n",
       "<table border=\"1\" class=\"dataframe\">\n",
       "  <thead>\n",
       "    <tr style=\"text-align: right;\">\n",
       "      <th></th>\n",
       "      <th>Arrest Year</th>\n",
       "      <th>Arrest Hour</th>\n",
       "      <th>Age</th>\n",
       "      <th>Offense Latitude</th>\n",
       "      <th>Offense Longitude</th>\n",
       "      <th>mean_age</th>\n",
       "    </tr>\n",
       "    <tr>\n",
       "      <th>Age_occurence</th>\n",
       "      <th></th>\n",
       "      <th></th>\n",
       "      <th></th>\n",
       "      <th></th>\n",
       "      <th></th>\n",
       "      <th></th>\n",
       "    </tr>\n",
       "  </thead>\n",
       "  <tbody>\n",
       "    <tr>\n",
       "      <th>no</th>\n",
       "      <td>2021.0</td>\n",
       "      <td>12.743929</td>\n",
       "      <td>26.988725</td>\n",
       "      <td>38.855876</td>\n",
       "      <td>-76.915434</td>\n",
       "      <td>35.374177</td>\n",
       "    </tr>\n",
       "    <tr>\n",
       "      <th>yes</th>\n",
       "      <td>2021.0</td>\n",
       "      <td>12.925027</td>\n",
       "      <td>47.405195</td>\n",
       "      <td>38.824105</td>\n",
       "      <td>-76.849981</td>\n",
       "      <td>35.374177</td>\n",
       "    </tr>\n",
       "  </tbody>\n",
       "</table>\n",
       "</div>"
      ],
      "text/plain": [
       "               Arrest Year  Arrest Hour        Age  Offense Latitude  \\\n",
       "Age_occurence                                                          \n",
       "no                  2021.0    12.743929  26.988725         38.855876   \n",
       "yes                 2021.0    12.925027  47.405195         38.824105   \n",
       "\n",
       "               Offense Longitude   mean_age  \n",
       "Age_occurence                                \n",
       "no                    -76.915434  35.374177  \n",
       "yes                   -76.849981  35.374177  "
      ]
     },
     "execution_count": 124,
     "metadata": {},
     "output_type": "execute_result"
    }
   ],
   "source": [
    "df['mean_age'] = age_mean\n",
    "df['Age_occurence'] = np.where(age>=df['mean_age'], 'yes', 'no')\n",
    "df.groupby('Age_occurence').mean()"
   ]
  },
  {
   "cell_type": "markdown",
   "id": "c9a88e3f",
   "metadata": {},
   "source": [
    "## Data Slicing"
   ]
  },
  {
   "cell_type": "code",
   "execution_count": 125,
   "id": "297789d4",
   "metadata": {},
   "outputs": [],
   "source": [
    "df1 = df.iloc[:700]"
   ]
  },
  {
   "cell_type": "markdown",
   "id": "928c5c62",
   "metadata": {},
   "source": [
    "## Applying Gaussian NB classifier"
   ]
  },
  {
   "cell_type": "code",
   "execution_count": 126,
   "id": "d011909c",
   "metadata": {},
   "outputs": [],
   "source": [
    "X_NaiveBayes= ['Age','Arrest Hour', 'Offense Latitude','Offense Longitude']\n",
    "Y_NaiveBayes = df1[['Age_occurence']]"
   ]
  },
  {
   "cell_type": "code",
   "execution_count": 127,
   "id": "45010ca3",
   "metadata": {},
   "outputs": [],
   "source": [
    "X_train_NaiveBayes, X_test_NaiveBayes, Y_train_NaiveBayes, Y_test_NaiveBayes = train_test_split(df1[X_NaiveBayes], Y_NaiveBayes, test_size=0.2, random_state=0)"
   ]
  },
  {
   "cell_type": "code",
   "execution_count": 128,
   "id": "3435b10a",
   "metadata": {},
   "outputs": [],
   "source": [
    "from sklearn.naive_bayes import GaussianNB\n",
    "model = GaussianNB()"
   ]
  },
  {
   "cell_type": "code",
   "execution_count": 129,
   "id": "ccbb7bd8",
   "metadata": {},
   "outputs": [
    {
     "name": "stderr",
     "output_type": "stream",
     "text": [
      "c:\\python 3.9\\lib\\site-packages\\sklearn\\utils\\validation.py:63: DataConversionWarning: A column-vector y was passed when a 1d array was expected. Please change the shape of y to (n_samples, ), for example using ravel().\n",
      "  return f(*args, **kwargs)\n"
     ]
    },
    {
     "data": {
      "text/plain": [
       "GaussianNB()"
      ]
     },
     "execution_count": 129,
     "metadata": {},
     "output_type": "execute_result"
    }
   ],
   "source": [
    "model.fit(X_train_NaiveBayes, Y_train_NaiveBayes)"
   ]
  },
  {
   "cell_type": "markdown",
   "id": "48020cc9",
   "metadata": {},
   "source": [
    "## Model Accuracy"
   ]
  },
  {
   "cell_type": "code",
   "execution_count": 130,
   "id": "96024b4e",
   "metadata": {},
   "outputs": [
    {
     "name": "stdout",
     "output_type": "stream",
     "text": [
      "Accuracy of Gaussian Naive Bayes classifier on test set: 0.99\n"
     ]
    }
   ],
   "source": [
    "Y_Pred_NaiveBayes = model.predict(X_test_NaiveBayes)\n",
    "print('Accuracy of Gaussian Naive Bayes classifier on test set: {:.2f}'.format(model.score(X_test_NaiveBayes, Y_test_NaiveBayes)))"
   ]
  },
  {
   "cell_type": "markdown",
   "id": "ec17ca29",
   "metadata": {},
   "source": [
    "## Corelation matrix showing the features"
   ]
  },
  {
   "cell_type": "code",
   "execution_count": 131,
   "id": "6998558f",
   "metadata": {},
   "outputs": [
    {
     "data": {
      "text/html": [
       "<div>\n",
       "<style scoped>\n",
       "    .dataframe tbody tr th:only-of-type {\n",
       "        vertical-align: middle;\n",
       "    }\n",
       "\n",
       "    .dataframe tbody tr th {\n",
       "        vertical-align: top;\n",
       "    }\n",
       "\n",
       "    .dataframe thead th {\n",
       "        text-align: right;\n",
       "    }\n",
       "</style>\n",
       "<table border=\"1\" class=\"dataframe\">\n",
       "  <thead>\n",
       "    <tr style=\"text-align: right;\">\n",
       "      <th></th>\n",
       "      <th>Age</th>\n",
       "      <th>Arrest Hour</th>\n",
       "      <th>Offense Latitude</th>\n",
       "      <th>Offense Longitude</th>\n",
       "    </tr>\n",
       "  </thead>\n",
       "  <tbody>\n",
       "    <tr>\n",
       "      <th>Age</th>\n",
       "      <td>1.000000</td>\n",
       "      <td>0.068555</td>\n",
       "      <td>0.049672</td>\n",
       "      <td>-0.130302</td>\n",
       "    </tr>\n",
       "    <tr>\n",
       "      <th>Arrest Hour</th>\n",
       "      <td>0.068555</td>\n",
       "      <td>1.000000</td>\n",
       "      <td>0.029208</td>\n",
       "      <td>-0.071493</td>\n",
       "    </tr>\n",
       "    <tr>\n",
       "      <th>Offense Latitude</th>\n",
       "      <td>0.049672</td>\n",
       "      <td>0.029208</td>\n",
       "      <td>1.000000</td>\n",
       "      <td>-0.375405</td>\n",
       "    </tr>\n",
       "    <tr>\n",
       "      <th>Offense Longitude</th>\n",
       "      <td>-0.130302</td>\n",
       "      <td>-0.071493</td>\n",
       "      <td>-0.375405</td>\n",
       "      <td>1.000000</td>\n",
       "    </tr>\n",
       "  </tbody>\n",
       "</table>\n",
       "</div>"
      ],
      "text/plain": [
       "                        Age  Arrest Hour  Offense Latitude  Offense Longitude\n",
       "Age                1.000000     0.068555          0.049672          -0.130302\n",
       "Arrest Hour        0.068555     1.000000          0.029208          -0.071493\n",
       "Offense Latitude   0.049672     0.029208          1.000000          -0.375405\n",
       "Offense Longitude -0.130302    -0.071493         -0.375405           1.000000"
      ]
     },
     "execution_count": 131,
     "metadata": {},
     "output_type": "execute_result"
    }
   ],
   "source": [
    "df1[X_NaiveBayes].corr()"
   ]
  },
  {
   "cell_type": "markdown",
   "id": "335d5df9",
   "metadata": {},
   "source": [
    "## Corelation Heatmap for better visualization"
   ]
  },
  {
   "cell_type": "code",
   "execution_count": 132,
   "id": "1faa2fd5",
   "metadata": {},
   "outputs": [
    {
     "data": {
      "image/png": "[encoded data removed]",
      "text/plain": [
       "<Figure size 640x480 with 2 Axes>"
      ]
     },
     "metadata": {},
     "output_type": "display_data"
    }
   ],
   "source": [
    "import seaborn as sns\n",
    "sns.heatmap(df1[X_NaiveBayes].corr(), annot=True, fmt=\".1f\")\n",
    "plt.show()"
   ]
  },
  {
   "cell_type": "markdown",
   "id": "4ac894d5",
   "metadata": {},
   "source": [
    "## Confusion Matrix"
   ]
  },
  {
   "cell_type": "code",
   "execution_count": 133,
   "id": "064b198b",
   "metadata": {},
   "outputs": [
    {
     "name": "stdout",
     "output_type": "stream",
     "text": [
      "Model Accuracy for Random Forest: 0.9928571428571429\n"
     ]
    },
    {
     "data": {
      "image/png": "[encoded data removed]",
      "text/plain": [
       "<Figure size 640x480 with 2 Axes>"
      ]
     },
     "metadata": {},
     "output_type": "display_data"
    }
   ],
   "source": [
    "cnf_matrix_NaiveBayes = metrics.confusion_matrix(Y_test_NaiveBayes, Y_Pred_NaiveBayes)\n",
    "cnf_matrix_NaiveBayes\n",
    "# name  of classes\n",
    "class_names=[0,1] \n",
    "fig, ax = plt.subplots()\n",
    "tick_marks = np.arange(len(class_names))\n",
    "plt.xticks(tick_marks, class_names)\n",
    "plt.yticks(tick_marks, class_names)\n",
    "\n",
    "# create heatmap\n",
    "sns.heatmap(pd.DataFrame(cnf_matrix_NaiveBayes), annot=True, cmap=\"YlGnBu\" ,fmt='g')\n",
    "ax.xaxis.set_label_position(\"top\")\n",
    "plt.tight_layout()\n",
    "plt.title('Confusion matrix for Naive Bayes', y=1.1)\n",
    "plt.ylabel('Actual label')\n",
    "plt.xlabel('Predicted label')\n",
    "print(\"Model Accuracy for Random Forest:\",metrics.accuracy_score(Y_test_NaiveBayes, Y_Pred_NaiveBayes))"
   ]
  },
  {
   "cell_type": "markdown",
   "id": "f52275b4",
   "metadata": {},
   "source": [
    "## Random Forest Classifier"
   ]
  },
  {
   "cell_type": "markdown",
   "id": "6da42e28",
   "metadata": {},
   "source": [
    "## Label Creation"
   ]
  },
  {
   "cell_type": "code",
   "execution_count": 134,
   "id": "7d9fcb4f",
   "metadata": {},
   "outputs": [
    {
     "name": "stderr",
     "output_type": "stream",
     "text": [
      "C:\\Users\\JNR_A_R_Y_A\\AppData\\Local\\Temp\\ipykernel_16960\\848525137.py:3: FutureWarning: The default value of numeric_only in DataFrameGroupBy.mean is deprecated. In a future version, numeric_only will default to False. Either specify numeric_only or select only columns which should be valid for the function.\n",
      "  df.groupby('crime_occurence_age').mean()\n"
     ]
    },
    {
     "data": {
      "text/html": [
       "<div>\n",
       "<style scoped>\n",
       "    .dataframe tbody tr th:only-of-type {\n",
       "        vertical-align: middle;\n",
       "    }\n",
       "\n",
       "    .dataframe tbody tr th {\n",
       "        vertical-align: top;\n",
       "    }\n",
       "\n",
       "    .dataframe thead th {\n",
       "        text-align: right;\n",
       "    }\n",
       "</style>\n",
       "<table border=\"1\" class=\"dataframe\">\n",
       "  <thead>\n",
       "    <tr style=\"text-align: right;\">\n",
       "      <th></th>\n",
       "      <th>Arrest Year</th>\n",
       "      <th>Arrest Hour</th>\n",
       "      <th>Age</th>\n",
       "      <th>Offense Latitude</th>\n",
       "      <th>Offense Longitude</th>\n",
       "      <th>mean_age</th>\n",
       "      <th>mean_age_crimes</th>\n",
       "    </tr>\n",
       "    <tr>\n",
       "      <th>crime_occurence_age</th>\n",
       "      <th></th>\n",
       "      <th></th>\n",
       "      <th></th>\n",
       "      <th></th>\n",
       "      <th></th>\n",
       "      <th></th>\n",
       "      <th></th>\n",
       "    </tr>\n",
       "  </thead>\n",
       "  <tbody>\n",
       "    <tr>\n",
       "      <th>no</th>\n",
       "      <td>2021.0</td>\n",
       "      <td>12.743929</td>\n",
       "      <td>26.988725</td>\n",
       "      <td>38.855876</td>\n",
       "      <td>-76.915434</td>\n",
       "      <td>35.374177</td>\n",
       "      <td>35.374177</td>\n",
       "    </tr>\n",
       "    <tr>\n",
       "      <th>yes</th>\n",
       "      <td>2021.0</td>\n",
       "      <td>12.925027</td>\n",
       "      <td>47.405195</td>\n",
       "      <td>38.824105</td>\n",
       "      <td>-76.849981</td>\n",
       "      <td>35.374177</td>\n",
       "      <td>35.374177</td>\n",
       "    </tr>\n",
       "  </tbody>\n",
       "</table>\n",
       "</div>"
      ],
      "text/plain": [
       "                     Arrest Year  Arrest Hour        Age  Offense Latitude  \\\n",
       "crime_occurence_age                                                          \n",
       "no                        2021.0    12.743929  26.988725         38.855876   \n",
       "yes                       2021.0    12.925027  47.405195         38.824105   \n",
       "\n",
       "                     Offense Longitude   mean_age  mean_age_crimes  \n",
       "crime_occurence_age                                                 \n",
       "no                          -76.915434  35.374177        35.374177  \n",
       "yes                         -76.849981  35.374177        35.374177  "
      ]
     },
     "execution_count": 134,
     "metadata": {},
     "output_type": "execute_result"
    }
   ],
   "source": [
    "df['mean_age_crimes'] = age_mean\n",
    "df['crime_occurence_age'] = np.where(age>=df['mean_age_crimes'], 'yes', 'no')\n",
    "df.groupby('crime_occurence_age').mean()"
   ]
  },
  {
   "cell_type": "markdown",
   "id": "75175633",
   "metadata": {},
   "source": [
    "## Feature Selection"
   ]
  },
  {
   "cell_type": "code",
   "execution_count": 135,
   "id": "4c21d99c",
   "metadata": {},
   "outputs": [],
   "source": [
    "df = df[['Arrest Year', 'Arrest Hour', 'Age', 'Offense Latitude', 'Offense Longitude', 'crime_occurence_age']]\n",
    "df = df\n",
    "X = df.drop('crime_occurence_age', axis=1)\n",
    "y = df['crime_occurence_age']"
   ]
  },
  {
   "cell_type": "code",
   "execution_count": 136,
   "id": "f3375e84",
   "metadata": {},
   "outputs": [],
   "source": [
    "X_train_RandomForest, X_test_RandomForest, Y_train_RandomForest, Y_test_RandomForest = train_test_split(X, y, random_state=1)"
   ]
  },
  {
   "cell_type": "markdown",
   "id": "158cfe04",
   "metadata": {},
   "source": [
    "### Calculating gini index for Random Forest Classifier"
   ]
  },
  {
   "cell_type": "code",
   "execution_count": 137,
   "id": "bab91d13",
   "metadata": {},
   "outputs": [
    {
     "data": {
      "text/plain": [
       "RandomForestClassifier(max_depth=30, min_samples_leaf=6, min_samples_split=9,\n",
       "                       random_state=200)"
      ]
     },
     "execution_count": 137,
     "metadata": {},
     "output_type": "execute_result"
    }
   ],
   "source": [
    "from sklearn.ensemble import RandomForestClassifier\n",
    "clf_gini = RandomForestClassifier(criterion = \"gini\",random_state = 200,max_depth=30, min_samples_split=9, min_samples_leaf=6)\n",
    "clf_gini"
   ]
  },
  {
   "cell_type": "markdown",
   "id": "ab44e442",
   "metadata": {},
   "source": [
    "## Fitting and predicitng the model"
   ]
  },
  {
   "cell_type": "code",
   "execution_count": 138,
   "id": "90b35a9c",
   "metadata": {},
   "outputs": [
    {
     "data": {
      "text/plain": [
       "RandomForestClassifier(max_depth=30, min_samples_leaf=6, min_samples_split=9,\n",
       "                       random_state=200)"
      ]
     },
     "execution_count": 138,
     "metadata": {},
     "output_type": "execute_result"
    }
   ],
   "source": [
    "clf_gini.fit(X_train_RandomForest, Y_train_RandomForest)"
   ]
  },
  {
   "cell_type": "code",
   "execution_count": 139,
   "id": "1a0cbed2",
   "metadata": {},
   "outputs": [],
   "source": [
    "Y_Pred_RandomForest = clf_gini.predict(X_test_RandomForest)"
   ]
  },
  {
   "cell_type": "markdown",
   "id": "69299524",
   "metadata": {},
   "source": [
    "## Metrics"
   ]
  },
  {
   "cell_type": "code",
   "execution_count": 140,
   "id": "fcb64d50",
   "metadata": {},
   "outputs": [
    {
     "data": {
      "text/plain": [
       "100.0"
      ]
     },
     "execution_count": 140,
     "metadata": {},
     "output_type": "execute_result"
    }
   ],
   "source": [
    "ac=accuracy_score(Y_test_RandomForest,Y_Pred_RandomForest)*100\n",
    "ac"
   ]
  },
  {
   "cell_type": "markdown",
   "id": "067a127b",
   "metadata": {},
   "source": [
    "## Confusion Matrix"
   ]
  },
  {
   "cell_type": "code",
   "execution_count": 141,
   "id": "066cc80b",
   "metadata": {},
   "outputs": [
    {
     "data": {
      "text/plain": [
       "array([[2268,    0],\n",
       "       [   0, 1646]], dtype=int64)"
      ]
     },
     "execution_count": 141,
     "metadata": {},
     "output_type": "execute_result"
    }
   ],
   "source": [
    "cnf_matrix_RandomForest = metrics.confusion_matrix(Y_test_RandomForest, Y_Pred_RandomForest)\n",
    "cnf_matrix_RandomForest"
   ]
  },
  {
   "cell_type": "code",
   "execution_count": 142,
   "id": "39b5c8a4",
   "metadata": {},
   "outputs": [
    {
     "name": "stdout",
     "output_type": "stream",
     "text": [
      "Model Accuracy for Random Forest: 1.0\n"
     ]
    },
    {
     "data": {
      "image/png": "[encoded data removed]",
      "text/plain": [
       "<Figure size 640x480 with 2 Axes>"
      ]
     },
     "metadata": {},
     "output_type": "display_data"
    }
   ],
   "source": [
    "class_names=[0,1] \n",
    "fig, ax = plt.subplots()\n",
    "tick_marks = np.arange(len(class_names))\n",
    "plt.xticks(tick_marks, class_names)\n",
    "plt.yticks(tick_marks, class_names)\n",
    "\n",
    "# create heatmap\n",
    "sns.heatmap(pd.DataFrame(cnf_matrix_RandomForest), annot=True, cmap=\"YlGnBu\" ,fmt='g')\n",
    "ax.xaxis.set_label_position(\"top\")\n",
    "plt.tight_layout()\n",
    "plt.title('Confusion matrix for Random Forest', y=1.1)\n",
    "plt.ylabel('Actual label')\n",
    "plt.xlabel('Predicted label')\n",
    "print(\"Model Accuracy for Random Forest:\",metrics.accuracy_score(Y_test_RandomForest, Y_Pred_RandomForest))"
   ]
  },
  {
   "cell_type": "markdown",
   "id": "46cfb444",
   "metadata": {},
   "source": [
    "## SVM"
   ]
  },
  {
   "cell_type": "code",
   "execution_count": 143,
   "id": "c5cf4b5a",
   "metadata": {},
   "outputs": [],
   "source": [
    "df = df[['Arrest Year', 'Arrest Hour', 'Age', 'Offense Latitude', 'Offense Longitude', 'crime_occurence_age']]\n",
    "df = df"
   ]
  },
  {
   "cell_type": "code",
   "execution_count": 144,
   "id": "385299c8",
   "metadata": {},
   "outputs": [],
   "source": [
    "X_SVM = df.iloc[:, [3, 4]].values  # Selecting Offense Latitude and Offense Longitude columns\n",
    "Y_SVM = df.iloc[:, 5].values  # Selecting crime_occurence_age column"
   ]
  },
  {
   "cell_type": "markdown",
   "id": "c1c958a6",
   "metadata": {},
   "source": [
    "### Splitting the dataset into the Training set and Test set"
   ]
  },
  {
   "cell_type": "code",
   "execution_count": 145,
   "id": "1f680c2a",
   "metadata": {},
   "outputs": [],
   "source": [
    "from sklearn.model_selection import train_test_split\n",
    "X_train_SVM, X_test_SVM, Y_train_SVM, Y_test_SVM = train_test_split(X_SVM, Y_SVM, test_size = 0.30, random_state = 0)"
   ]
  },
  {
   "cell_type": "markdown",
   "id": "fe6b6e78",
   "metadata": {},
   "source": [
    "## Feature Scaling"
   ]
  },
  {
   "cell_type": "code",
   "execution_count": 146,
   "id": "a616be23",
   "metadata": {},
   "outputs": [
    {
     "name": "stdout",
     "output_type": "stream",
     "text": [
      "[[ 0.06639368 -0.05113853]\n",
      " [ 0.03690926 -0.02829877]\n",
      " [ 0.03690926 -0.00799677]\n",
      " ...\n",
      " [ 0.03619013 -0.05005092]\n",
      " [ 0.03834752 -0.04642556]\n",
      " [ 0.04410058 -0.0417126 ]]\n"
     ]
    }
   ],
   "source": [
    "from sklearn.preprocessing import StandardScaler\n",
    "sc = StandardScaler()\n",
    "X_train_SVM = sc.fit_transform(X_train_SVM)\n",
    "X_test_SVM = sc.transform(X_test_SVM)\n",
    "print(X_train_SVM)"
   ]
  },
  {
   "cell_type": "markdown",
   "id": "e86c95ff",
   "metadata": {},
   "source": [
    "## Training & fitting the model"
   ]
  },
  {
   "cell_type": "code",
   "execution_count": 147,
   "id": "5201af7b",
   "metadata": {},
   "outputs": [
    {
     "data": {
      "text/plain": [
       "SVC(kernel='linear', random_state=0)"
      ]
     },
     "execution_count": 147,
     "metadata": {},
     "output_type": "execute_result"
    }
   ],
   "source": [
    "from sklearn.svm import SVC\n",
    "classifier = SVC(kernel = 'linear',random_state = 0)\n",
    "classifier.fit(X_train_SVM, Y_train_SVM)"
   ]
  },
  {
   "cell_type": "code",
   "execution_count": 148,
   "id": "0bd3a6a3",
   "metadata": {},
   "outputs": [],
   "source": [
    "Y_Pred_SVM = classifier.predict(X_test_SVM)"
   ]
  },
  {
   "cell_type": "code",
   "execution_count": 149,
   "id": "1cd567cb",
   "metadata": {},
   "outputs": [
    {
     "name": "stdout",
     "output_type": "stream",
     "text": [
      "[[ 0.03690926 -0.02829877]\n",
      " [ 0.00382918 -0.02721116]\n",
      " [ 0.0110205  -0.02322327]\n",
      " ...\n",
      " [ 0.06639368 -0.05113853]\n",
      " [ 0.02684141 -0.03011145]\n",
      " [ 0.03834752 -0.04642556]]\n"
     ]
    }
   ],
   "source": [
    "print(classifier.support_vectors_)"
   ]
  },
  {
   "cell_type": "markdown",
   "id": "24a68c62",
   "metadata": {},
   "source": [
    "## Confusion Matrix"
   ]
  },
  {
   "cell_type": "code",
   "execution_count": 150,
   "id": "9f94d978",
   "metadata": {},
   "outputs": [
    {
     "name": "stdout",
     "output_type": "stream",
     "text": [
      "Model Accuracy for SVM: 0.5813458262350937\n"
     ]
    },
    {
     "data": {
      "image/png": "[encoded data removed]",
      "text/plain": [
       "<Figure size 640x480 with 2 Axes>"
      ]
     },
     "metadata": {},
     "output_type": "display_data"
    }
   ],
   "source": [
    "cnf_matrix_RandomForest = metrics.confusion_matrix(Y_test_SVM, Y_Pred_SVM)\n",
    "cnf_matrix_RandomForest\n",
    "# name  of classes\n",
    "class_names=[0,1] \n",
    "fig, ax = plt.subplots()\n",
    "tick_marks = np.arange(len(class_names))\n",
    "plt.xticks(tick_marks, class_names)\n",
    "plt.yticks(tick_marks, class_names)\n",
    "\n",
    "# create heatmap\n",
    "sns.heatmap(pd.DataFrame(cnf_matrix_RandomForest), annot=True, cmap=\"YlGnBu\" ,fmt='g')\n",
    "ax.xaxis.set_label_position(\"top\")\n",
    "plt.tight_layout()\n",
    "plt.title('Confusion matrix for SVM', y=1.1)\n",
    "plt.ylabel('Actual label')\n",
    "plt.xlabel('Predicted label')\n",
    "print(\"Model Accuracy for SVM:\",metrics.accuracy_score(Y_test_SVM, Y_Pred_SVM))"
   ]
  },
  {
   "cell_type": "markdown",
   "id": "681e6c90",
   "metadata": {},
   "source": [
    "## Accuracy"
   ]
  },
  {
   "cell_type": "code",
   "execution_count": 151,
   "id": "fc11e523",
   "metadata": {},
   "outputs": [
    {
     "data": {
      "text/plain": [
       "58.13458262350937"
      ]
     },
     "execution_count": 151,
     "metadata": {},
     "output_type": "execute_result"
    }
   ],
   "source": [
    "ac=accuracy_score(Y_test_SVM,Y_Pred_SVM)*100\n",
    "ac"
   ]
  },
  {
   "cell_type": "markdown",
   "id": "9614b32e",
   "metadata": {},
   "source": [
    "## Vizualising model results"
   ]
  },
  {
   "cell_type": "code",
   "execution_count": 152,
   "id": "c6190ecc",
   "metadata": {},
   "outputs": [],
   "source": [
    "# Visualising the Training set results\n",
    "\n",
    "# from matplotlib.colors import ListedColormap\n",
    "# X_set, y_set = X_train_SVM, Y_train_SVM\n",
    "# X1, X2 = np.meshgrid(np.arange(start = X_set[:, 0].min() - 1, stop = X_set[:, 0].max() + 1, step = 0.01),\n",
    "#                      np.arange(start = X_set[:, 1].min() - 1, stop = X_set[:, 1].max() + 1, step = 0.01))\n",
    "# plt.contourf(X1, X2, classifier.predict(np.array([X1.ravel(), X2.ravel()]).T).reshape(X1.shape),\n",
    "#              alpha = 0.75, cmap = ListedColormap(('red', 'green')))\n",
    "# plt.xlim(X1.min(), X1.max())\n",
    "# plt.ylim(X2.min(), X2.max())\n",
    "# for i, j in enumerate(np.unique(y_set)):\n",
    "#     plt.scatter(X_set[y_set == j, 0], X_set[y_set == j, 1],\n",
    "#                 c = ListedColormap(('red', 'green'))(i), label = j)\n",
    "# plt.title('SVM (Training set)')\n",
    "# plt.xlabel('Offense Latitude')\n",
    "# plt.ylabel('Offense Longitude')\n",
    "# plt.legend()\n",
    "# plt.show()"
   ]
  },
  {
   "cell_type": "markdown",
   "id": "59970224",
   "metadata": {},
   "source": [
    "## Fitting SVM to the Training set"
   ]
  },
  {
   "cell_type": "code",
   "execution_count": 153,
   "id": "8b865836",
   "metadata": {},
   "outputs": [
    {
     "data": {
      "text/plain": [
       "SVC(random_state=0)"
      ]
     },
     "execution_count": 153,
     "metadata": {},
     "output_type": "execute_result"
    }
   ],
   "source": [
    "from sklearn.svm import SVC\n",
    "classifier = SVC(kernel = 'rbf',random_state = 0)\n",
    "classifier.fit(X_train_SVM, Y_train_SVM)"
   ]
  },
  {
   "cell_type": "code",
   "execution_count": 154,
   "id": "dfe53c84",
   "metadata": {},
   "outputs": [],
   "source": [
    "Y_Pred_SVMrbf = classifier.predict(X_test_SVM)"
   ]
  },
  {
   "cell_type": "code",
   "execution_count": 155,
   "id": "36f450ac",
   "metadata": {},
   "outputs": [
    {
     "name": "stdout",
     "output_type": "stream",
     "text": [
      "Model Accuracy for Random Forest: 0.5813458262350937\n"
     ]
    },
    {
     "data": {
      "image/png": "[encoded data removed]",
      "text/plain": [
       "<Figure size 640x480 with 2 Axes>"
      ]
     },
     "metadata": {},
     "output_type": "display_data"
    }
   ],
   "source": [
    "cnf_matrix_RandomForest = metrics.confusion_matrix(Y_test_SVM, Y_Pred_SVMrbf)\n",
    "cnf_matrix_RandomForest\n",
    "# name  of classes\n",
    "class_names=[0,1] \n",
    "fig, ax = plt.subplots()\n",
    "tick_marks = np.arange(len(class_names))\n",
    "plt.xticks(tick_marks, class_names)\n",
    "plt.yticks(tick_marks, class_names)\n",
    "\n",
    "# create heatmap\n",
    "sns.heatmap(pd.DataFrame(cnf_matrix_RandomForest), annot=True, cmap=\"YlGnBu\" ,fmt='g')\n",
    "ax.xaxis.set_label_position(\"top\")\n",
    "plt.tight_layout()\n",
    "plt.title('Confusion matrix for Random Forest', y=1.1)\n",
    "plt.ylabel('Actual label')\n",
    "plt.xlabel('Predicted label')\n",
    "print(\"Model Accuracy for Random Forest:\",metrics.accuracy_score(Y_test_SVM, Y_Pred_SVMrbf))"
   ]
  },
  {
   "cell_type": "code",
   "execution_count": 156,
   "id": "3373aab9",
   "metadata": {},
   "outputs": [
    {
     "data": {
      "text/plain": [
       "58.13458262350937"
      ]
     },
     "execution_count": 156,
     "metadata": {},
     "output_type": "execute_result"
    }
   ],
   "source": [
    "ac=accuracy_score(Y_test_SVM,Y_Pred_SVMrbf)*100\n",
    "ac"
   ]
  },
  {
   "cell_type": "markdown",
   "id": "d56616b5",
   "metadata": {},
   "source": [
    "## Principal Component Analysis(PCA)"
   ]
  },
  {
   "cell_type": "code",
   "execution_count": 157,
   "id": "3754f917",
   "metadata": {},
   "outputs": [],
   "source": [
    "from sklearn.model_selection import cross_val_score"
   ]
  },
  {
   "cell_type": "code",
   "execution_count": 158,
   "id": "c61b8dae",
   "metadata": {},
   "outputs": [
    {
     "data": {
      "text/plain": [
       "<function matplotlib.pyplot.show(close=None, block=None)>"
      ]
     },
     "execution_count": 158,
     "metadata": {},
     "output_type": "execute_result"
    },
    {
     "data": {
      "image/png": "[encoded data removed]",
      "text/plain": [
       "<Figure size 640x480 with 1 Axes>"
      ]
     },
     "metadata": {},
     "output_type": "display_data"
    }
   ],
   "source": [
    "X3 = df['Age'].values\n",
    "y3 = df['crime_occurence_age'].values\n",
    "plt.scatter(X3, y3)\n",
    "plt.show"
   ]
  },
  {
   "cell_type": "code",
   "execution_count": 159,
   "id": "1955af4c",
   "metadata": {},
   "outputs": [
    {
     "data": {
      "text/plain": [
       "<function matplotlib.pyplot.show(close=None, block=None)>"
      ]
     },
     "execution_count": 159,
     "metadata": {},
     "output_type": "execute_result"
    },
    {
     "data": {
      "image/png": "[encoded data removed]",
      "text/plain": [
       "<Figure size 640x480 with 1 Axes>"
      ]
     },
     "metadata": {},
     "output_type": "display_data"
    }
   ],
   "source": [
    "X4 = df['Age'].values\n",
    "y4 = df['crime_occurence_age'].values\n",
    "plt.scatter(X4, y4)\n",
    "plt.show"
   ]
  },
  {
   "cell_type": "code",
   "execution_count": 160,
   "id": "06297be6",
   "metadata": {},
   "outputs": [
    {
     "data": {
      "text/plain": [
       "<function matplotlib.pyplot.show(close=None, block=None)>"
      ]
     },
     "execution_count": 160,
     "metadata": {},
     "output_type": "execute_result"
    },
    {
     "data": {
      "image/png": "[encoded data removed]",
      "text/plain": [
       "<Figure size 640x480 with 1 Axes>"
      ]
     },
     "metadata": {},
     "output_type": "display_data"
    }
   ],
   "source": [
    "X5 = df['Age'].values\n",
    "y5 = df['crime_occurence_age'].values\n",
    "plt.scatter(X5, y5)\n",
    "plt.show"
   ]
  },
  {
   "cell_type": "code",
   "execution_count": 161,
   "id": "67fa784a",
   "metadata": {},
   "outputs": [
    {
     "data": {
      "text/plain": [
       "<function matplotlib.pyplot.show(close=None, block=None)>"
      ]
     },
     "execution_count": 161,
     "metadata": {},
     "output_type": "execute_result"
    },
    {
     "data": {
      "image/png": "[encoded data removed]",
      "text/plain": [
       "<Figure size 640x480 with 1 Axes>"
      ]
     },
     "metadata": {},
     "output_type": "display_data"
    }
   ],
   "source": [
    "X6 = df['Age'].values\n",
    "y6 = df['crime_occurence_age'].values\n",
    "plt.scatter(X6, y6)\n",
    "plt.show"
   ]
  },
  {
   "cell_type": "markdown",
   "id": "3b3c35b3",
   "metadata": {},
   "source": [
    "## Vizualization Inference"
   ]
  },
  {
   "cell_type": "markdown",
   "id": "3be572ad",
   "metadata": {},
   "source": [
    "### Feature Selection"
   ]
  },
  {
   "cell_type": "code",
   "execution_count": 233,
   "id": "f0a0ff11",
   "metadata": {},
   "outputs": [],
   "source": [
    "features = ['Age','Arrest Year', 'Arrest Hour', 'Age','Offense Latitude', 'Offense Longitude']\n",
    "X= df.loc[:, features].values\n",
    "y = df.loc[:, ['crime_occurence_age']].values"
   ]
  },
  {
   "cell_type": "markdown",
   "id": "e9b912b2",
   "metadata": {},
   "source": [
    "## Splitting Dataset into Test and Training Data"
   ]
  },
  {
   "cell_type": "code",
   "execution_count": 234,
   "id": "bdf2265e",
   "metadata": {},
   "outputs": [],
   "source": [
    "X_train, X_test, y_train, y_test = train_test_split(X, y, test_size=0.2, random_state=0)"
   ]
  },
  {
   "cell_type": "markdown",
   "id": "46cf34d1",
   "metadata": {},
   "source": [
    "## Scaling and Standardizing Data"
   ]
  },
  {
   "cell_type": "code",
   "execution_count": 235,
   "id": "59a27df7",
   "metadata": {},
   "outputs": [],
   "source": [
    "from sklearn.preprocessing import StandardScaler\n",
    "sc = StandardScaler()\n",
    "X_train = sc.fit_transform(X_train)\n",
    "X_test = sc.transform(X_test)"
   ]
  },
  {
   "cell_type": "markdown",
   "id": "bedc5eec",
   "metadata": {},
   "source": [
    "## Applying PCA from sklearn for 2 Principal Components"
   ]
  },
  {
   "cell_type": "code",
   "execution_count": 236,
   "id": "254a8320",
   "metadata": {},
   "outputs": [],
   "source": [
    "from sklearn.decomposition import PCA\n",
    "\n",
    "pca = PCA(n_components=2)\n",
    "principalComponents = pca.fit_transform(X_train_SVM)\n",
    "X_test_SVM_pca = pca.transform(X_test_SVM)  # Corrected variable name\n",
    "principalDf = pd.DataFrame(data=principalComponents,\n",
    "                            columns=['principal component 1', 'principal component 2'])\n",
    "explained_variance = pca.explained_variance_ratio_\n"
   ]
  },
  {
   "cell_type": "markdown",
   "id": "552be20d",
   "metadata": {},
   "source": [
    "### Final Dataframe with label concatenated with features"
   ]
  },
  {
   "cell_type": "code",
   "execution_count": 237,
   "id": "067361bd",
   "metadata": {},
   "outputs": [],
   "source": [
    "finalDf = pd.concat([principalDf, df[['crime_occurence_age']]], axis = 1)"
   ]
  },
  {
   "cell_type": "markdown",
   "id": "b6528ae6",
   "metadata": {},
   "source": [
    "### Plot to observe the 2 Principal Components as a result of PCA"
   ]
  },
  {
   "cell_type": "code",
   "execution_count": 238,
   "id": "cf69bf62",
   "metadata": {},
   "outputs": [
    {
     "data": {
      "image/png": "[encoded data removed]",
      "text/plain": [
       "<Figure size 800x800 with 1 Axes>"
      ]
     },
     "metadata": {},
     "output_type": "display_data"
    }
   ],
   "source": [
    "fig = plt.figure(figsize = (8,8))\n",
    "ax = fig.add_subplot(1,1,1) \n",
    "ax.set_xlabel('Principal Component 1', fontsize = 15)\n",
    "ax.set_ylabel('Principal Component 2', fontsize = 15)\n",
    "ax.set_title('2 component PCA', fontsize = 20)\n",
    "targets = ['0', '1']\n",
    "colors = ['r', 'g']\n",
    "for target, color in zip(targets,colors):\n",
    "    indicesToKeep = finalDf['crime_occurence_age'] == target\n",
    "    ax.scatter(finalDf.loc[indicesToKeep, 'principal component 1']\n",
    "               , finalDf.loc[indicesToKeep, 'principal component 2']\n",
    "               , c = color\n",
    "               , s = 50)\n",
    "ax.legend(targets)\n",
    "ax.grid()"
   ]
  },
  {
   "cell_type": "markdown",
   "id": "91825c72",
   "metadata": {},
   "source": [
    "## Variance Ratio"
   ]
  },
  {
   "cell_type": "code",
   "execution_count": 168,
   "id": "3dc0151c",
   "metadata": {},
   "outputs": [
    {
     "name": "stdout",
     "output_type": "stream",
     "text": [
      "[0.99696325 0.00303675]\n"
     ]
    }
   ],
   "source": [
    "print(explained_variance)"
   ]
  },
  {
   "cell_type": "markdown",
   "id": "f3cf670e",
   "metadata": {},
   "source": [
    "## KNN"
   ]
  },
  {
   "cell_type": "code",
   "execution_count": 206,
   "id": "3a8b3a05",
   "metadata": {},
   "outputs": [],
   "source": [
    "balance_data = pd.DataFrame(df) \n",
    "\n",
    "X_KNN = balance_data.iloc[:, [2, 3]]\n",
    "Y_KNN = balance_data.iloc[:, 5]"
   ]
  },
  {
   "cell_type": "markdown",
   "id": "df1145dc",
   "metadata": {},
   "source": [
    "### Splitting the dataset into the Training set and Test set"
   ]
  },
  {
   "cell_type": "code",
   "execution_count": 207,
   "id": "853df366",
   "metadata": {},
   "outputs": [],
   "source": [
    "from sklearn.model_selection import train_test_split\n",
    "\n",
    "X_train_KNN, X_test_KNN, Y_train_KNN, Y_test_KNN = train_test_split(X_KNN, Y_KNN, test_size=0.30, random_state=0)\n"
   ]
  },
  {
   "cell_type": "markdown",
   "id": "64463b93",
   "metadata": {},
   "source": [
    "## Feature Scaling"
   ]
  },
  {
   "cell_type": "code",
   "execution_count": 208,
   "id": "3474b44d",
   "metadata": {},
   "outputs": [],
   "source": [
    "from sklearn.preprocessing import StandardScaler\n",
    "sc = StandardScaler()\n",
    "X_train_KNN = sc.fit_transform(X_train_KNN)\n",
    "X_test_KNN = sc.transform(X_test_KNN)"
   ]
  },
  {
   "cell_type": "markdown",
   "id": "0f378e3a",
   "metadata": {},
   "source": [
    "## Training and testing the model"
   ]
  },
  {
   "cell_type": "code",
   "execution_count": 209,
   "id": "2836d688",
   "metadata": {},
   "outputs": [
    {
     "data": {
      "text/plain": [
       "KNeighborsClassifier()"
      ]
     },
     "execution_count": 209,
     "metadata": {},
     "output_type": "execute_result"
    }
   ],
   "source": [
    "from sklearn.neighbors import KNeighborsClassifier\n",
    "classifier = KNeighborsClassifier(n_neighbors = 5, metric = 'minkowski', p = 2)\n",
    "classifier.fit(X_train_KNN, Y_train_KNN)"
   ]
  },
  {
   "cell_type": "code",
   "execution_count": 210,
   "id": "a9b2c086",
   "metadata": {},
   "outputs": [],
   "source": [
    "# Predicting the Test set results\n",
    "Y_Pred_KNN = classifier.predict(X_test_KNN)"
   ]
  },
  {
   "cell_type": "markdown",
   "id": "d41fd3a7",
   "metadata": {},
   "source": [
    "## Accuracy, Confusion Matrix & Heatmap"
   ]
  },
  {
   "cell_type": "code",
   "execution_count": 211,
   "id": "ce5e3a20",
   "metadata": {},
   "outputs": [
    {
     "data": {
      "text/plain": [
       "99.97870528109028"
      ]
     },
     "execution_count": 211,
     "metadata": {},
     "output_type": "execute_result"
    }
   ],
   "source": [
    "ac=accuracy_score(Y_test_KNN,Y_Pred_KNN)*100\n",
    "ac"
   ]
  },
  {
   "cell_type": "code",
   "execution_count": 212,
   "id": "fb95d09c",
   "metadata": {},
   "outputs": [
    {
     "name": "stdout",
     "output_type": "stream",
     "text": [
      "Model Accuracy for Random Forest: 0.9997870528109029\n"
     ]
    },
    {
     "data": {
      "image/png": "[encoded data removed]",
      "text/plain": [
       "<Figure size 640x480 with 2 Axes>"
      ]
     },
     "metadata": {},
     "output_type": "display_data"
    }
   ],
   "source": [
    "cnf_matrix_RandomForest = metrics.confusion_matrix(Y_test_KNN, Y_Pred_KNN)\n",
    "cnf_matrix_RandomForest\n",
    "# name  of classes\n",
    "class_names=[0,1] \n",
    "fig, ax = plt.subplots()\n",
    "tick_marks = np.arange(len(class_names))\n",
    "plt.xticks(tick_marks, class_names)\n",
    "plt.yticks(tick_marks, class_names)\n",
    "\n",
    "# create heatmap\n",
    "sns.heatmap(pd.DataFrame(cnf_matrix_RandomForest), annot=True, cmap=\"YlGnBu\" ,fmt='g')\n",
    "ax.xaxis.set_label_position(\"top\")\n",
    "plt.tight_layout()\n",
    "plt.title('Confusion matrix for Random Forest', y=1.1)\n",
    "plt.ylabel('Actual label')\n",
    "plt.xlabel('Predicted label')\n",
    "print(\"Model Accuracy for Random Forest:\",metrics.accuracy_score(Y_test_KNN, Y_Pred_KNN))"
   ]
  },
  {
   "cell_type": "markdown",
   "id": "65fe48ed",
   "metadata": {},
   "source": [
    "## Conclusion"
   ]
  },
  {
   "cell_type": "markdown",
   "id": "e954bea0",
   "metadata": {},
   "source": [
    "###### The predictions made by various classification algorithms show the occurence possibility of a crime whether a crime will occur or not, if a crime occurs, will it be a violent or a non-violent crime or if a crime occurs, is the cause of the crime murder or not. These predictions might help the local police departments as well as the FBI solve many cases with esfficiency and accuracy.\n",
    "\n",
    "###### Among the classification algorithms, Random Forest Classifier performs the best making a decision based on majority vote and constructing a decision tree for each feature. The highest accuracy achieve with Random Forest Classifier is 86.86%. Also, we observed that the dataset performs well with non-linear data as compared to linear data hence not so good results were achieved with Linear Regression."
   ]
  }
 ],
 "metadata": {
  "kernelspec": {
   "display_name": "Python 3 (ipykernel)",
   "language": "python",
   "name": "python3"
  },
  "language_info": {
   "codemirror_mode": {
    "name": "ipython",
    "version": 3
   },
   "file_extension": ".py",
   "mimetype": "text/x-python",
   "name": "python",
   "nbconvert_exporter": "python",
   "pygments_lexer": "ipython3",
   "version": "3.9.5"
  }
 },
 "nbformat": 4,
 "nbformat_minor": 5
}
