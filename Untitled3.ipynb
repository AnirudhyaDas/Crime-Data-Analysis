{
 "cells": [
  {
   "cell_type": "code",
   "execution_count": 6,
   "id": "4aa542bf",
   "metadata": {},
   "outputs": [],
   "source": [
    "import numpy as np\n",
    "import pandas as pd\n",
    "import seaborn as sns\n",
    "import matplotlib.pyplot as plt\n",
    "%matplotlib inline"
   ]
  },
  {
   "cell_type": "markdown",
   "id": "7791de33",
   "metadata": {},
   "source": [
    "## Loading the dataset into a Pandas Dataframe"
   ]
  },
  {
   "cell_type": "code",
   "execution_count": 7,
   "id": "1eeb768c",
   "metadata": {},
   "outputs": [
    {
     "data": {
      "text/html": [
       "<div>\n",
       "<style scoped>\n",
       "    .dataframe tbody tr th:only-of-type {\n",
       "        vertical-align: middle;\n",
       "    }\n",
       "\n",
       "    .dataframe tbody tr th {\n",
       "        vertical-align: top;\n",
       "    }\n",
       "\n",
       "    .dataframe thead th {\n",
       "        text-align: right;\n",
       "    }\n",
       "</style>\n",
       "<table border=\"1\" class=\"dataframe\">\n",
       "  <thead>\n",
       "    <tr style=\"text-align: right;\">\n",
       "      <th></th>\n",
       "      <th>Arrest Year</th>\n",
       "      <th>Arrest Date</th>\n",
       "      <th>Arrest Hour</th>\n",
       "      <th>Age</th>\n",
       "      <th>Defendant Race</th>\n",
       "      <th>Defendant Ethnicity</th>\n",
       "      <th>Defendant Sex</th>\n",
       "      <th>Arrest Category</th>\n",
       "      <th>Offense Latitude</th>\n",
       "      <th>Offense Longitude</th>\n",
       "    </tr>\n",
       "  </thead>\n",
       "  <tbody>\n",
       "    <tr>\n",
       "      <th>0</th>\n",
       "      <td>2021</td>\n",
       "      <td>1/1/21</td>\n",
       "      <td>0</td>\n",
       "      <td>38</td>\n",
       "      <td>BLACK</td>\n",
       "      <td>UNKNOWN</td>\n",
       "      <td>MALE</td>\n",
       "      <td>Damage to Property</td>\n",
       "      <td>38.927</td>\n",
       "      <td>-77.006</td>\n",
       "    </tr>\n",
       "    <tr>\n",
       "      <th>1</th>\n",
       "      <td>2021</td>\n",
       "      <td>1/1/21</td>\n",
       "      <td>0</td>\n",
       "      <td>31</td>\n",
       "      <td>BLACK</td>\n",
       "      <td>NOT HISPANIC</td>\n",
       "      <td>MALE</td>\n",
       "      <td>Simple Assault</td>\n",
       "      <td>38.925</td>\n",
       "      <td>-77.033</td>\n",
       "    </tr>\n",
       "    <tr>\n",
       "      <th>2</th>\n",
       "      <td>2021</td>\n",
       "      <td>1/1/21</td>\n",
       "      <td>0</td>\n",
       "      <td>35</td>\n",
       "      <td>BLACK</td>\n",
       "      <td>NOT HISPANIC</td>\n",
       "      <td>MALE</td>\n",
       "      <td>Weapon Violations</td>\n",
       "      <td>38.900</td>\n",
       "      <td>-76.930</td>\n",
       "    </tr>\n",
       "    <tr>\n",
       "      <th>3</th>\n",
       "      <td>2021</td>\n",
       "      <td>1/1/21</td>\n",
       "      <td>0</td>\n",
       "      <td>31</td>\n",
       "      <td>BLACK</td>\n",
       "      <td>NOT HISPANIC</td>\n",
       "      <td>MALE</td>\n",
       "      <td>Weapon Violations</td>\n",
       "      <td>38.849</td>\n",
       "      <td>-76.976</td>\n",
       "    </tr>\n",
       "    <tr>\n",
       "      <th>4</th>\n",
       "      <td>2021</td>\n",
       "      <td>1/1/21</td>\n",
       "      <td>0</td>\n",
       "      <td>21</td>\n",
       "      <td>BLACK</td>\n",
       "      <td>NOT HISPANIC</td>\n",
       "      <td>MALE</td>\n",
       "      <td>Weapon Violations</td>\n",
       "      <td>38.882</td>\n",
       "      <td>-76.925</td>\n",
       "    </tr>\n",
       "  </tbody>\n",
       "</table>\n",
       "</div>"
      ],
      "text/plain": [
       "   Arrest Year Arrest Date  Arrest Hour  Age Defendant Race  \\\n",
       "0         2021      1/1/21            0   38          BLACK   \n",
       "1         2021      1/1/21            0   31          BLACK   \n",
       "2         2021      1/1/21            0   35          BLACK   \n",
       "3         2021      1/1/21            0   31          BLACK   \n",
       "4         2021      1/1/21            0   21          BLACK   \n",
       "\n",
       "  Defendant Ethnicity Defendant Sex     Arrest Category  Offense Latitude  \\\n",
       "0             UNKNOWN          MALE  Damage to Property            38.927   \n",
       "1        NOT HISPANIC          MALE      Simple Assault            38.925   \n",
       "2        NOT HISPANIC          MALE   Weapon Violations            38.900   \n",
       "3        NOT HISPANIC          MALE   Weapon Violations            38.849   \n",
       "4        NOT HISPANIC          MALE   Weapon Violations            38.882   \n",
       "\n",
       "   Offense Longitude  \n",
       "0            -77.006  \n",
       "1            -77.033  \n",
       "2            -76.930  \n",
       "3            -76.976  \n",
       "4            -76.925  "
      ]
     },
     "execution_count": 7,
     "metadata": {},
     "output_type": "execute_result"
    }
   ],
   "source": [
    "df = pd.read_csv('crime_data.csv')\n",
    "df.head()"
   ]
  },
  {
   "cell_type": "code",
   "execution_count": 8,
   "id": "9a39b8aa",
   "metadata": {},
   "outputs": [
    {
     "data": {
      "text/plain": [
       "(15653, 10)"
      ]
     },
     "execution_count": 8,
     "metadata": {},
     "output_type": "execute_result"
    }
   ],
   "source": [
    "df.shape"
   ]
  },
  {
   "cell_type": "code",
   "execution_count": 9,
   "id": "cf1568d4",
   "metadata": {},
   "outputs": [
    {
     "data": {
      "text/plain": [
       "Index(['Arrest Year', 'Arrest Date', 'Arrest Hour', 'Age', 'Defendant Race',\n",
       "       'Defendant Ethnicity', 'Defendant Sex', 'Arrest Category',\n",
       "       'Offense Latitude', 'Offense Longitude'],\n",
       "      dtype='object')"
      ]
     },
     "execution_count": 9,
     "metadata": {},
     "output_type": "execute_result"
    }
   ],
   "source": [
    "df.columns"
   ]
  },
  {
   "cell_type": "markdown",
   "id": "e8e70088",
   "metadata": {},
   "source": [
    "## Data Cleaning"
   ]
  },
  {
   "cell_type": "code",
   "execution_count": 10,
   "id": "7c59b1dc",
   "metadata": {},
   "outputs": [],
   "source": [
    "df = df.fillna(0)"
   ]
  },
  {
   "cell_type": "code",
   "execution_count": 11,
   "id": "d6201e33",
   "metadata": {},
   "outputs": [
    {
     "data": {
      "text/html": [
       "<div>\n",
       "<style scoped>\n",
       "    .dataframe tbody tr th:only-of-type {\n",
       "        vertical-align: middle;\n",
       "    }\n",
       "\n",
       "    .dataframe tbody tr th {\n",
       "        vertical-align: top;\n",
       "    }\n",
       "\n",
       "    .dataframe thead th {\n",
       "        text-align: right;\n",
       "    }\n",
       "</style>\n",
       "<table border=\"1\" class=\"dataframe\">\n",
       "  <thead>\n",
       "    <tr style=\"text-align: right;\">\n",
       "      <th></th>\n",
       "      <th>Arrest Year</th>\n",
       "      <th>Arrest Date</th>\n",
       "      <th>Arrest Hour</th>\n",
       "      <th>Age</th>\n",
       "      <th>Defendant Race</th>\n",
       "      <th>Defendant Ethnicity</th>\n",
       "      <th>Defendant Sex</th>\n",
       "      <th>Arrest Category</th>\n",
       "      <th>Offense Latitude</th>\n",
       "      <th>Offense Longitude</th>\n",
       "    </tr>\n",
       "  </thead>\n",
       "  <tbody>\n",
       "    <tr>\n",
       "      <th>0</th>\n",
       "      <td>False</td>\n",
       "      <td>False</td>\n",
       "      <td>False</td>\n",
       "      <td>False</td>\n",
       "      <td>False</td>\n",
       "      <td>False</td>\n",
       "      <td>False</td>\n",
       "      <td>False</td>\n",
       "      <td>False</td>\n",
       "      <td>False</td>\n",
       "    </tr>\n",
       "    <tr>\n",
       "      <th>1</th>\n",
       "      <td>False</td>\n",
       "      <td>False</td>\n",
       "      <td>False</td>\n",
       "      <td>False</td>\n",
       "      <td>False</td>\n",
       "      <td>False</td>\n",
       "      <td>False</td>\n",
       "      <td>False</td>\n",
       "      <td>False</td>\n",
       "      <td>False</td>\n",
       "    </tr>\n",
       "    <tr>\n",
       "      <th>2</th>\n",
       "      <td>False</td>\n",
       "      <td>False</td>\n",
       "      <td>False</td>\n",
       "      <td>False</td>\n",
       "      <td>False</td>\n",
       "      <td>False</td>\n",
       "      <td>False</td>\n",
       "      <td>False</td>\n",
       "      <td>False</td>\n",
       "      <td>False</td>\n",
       "    </tr>\n",
       "    <tr>\n",
       "      <th>3</th>\n",
       "      <td>False</td>\n",
       "      <td>False</td>\n",
       "      <td>False</td>\n",
       "      <td>False</td>\n",
       "      <td>False</td>\n",
       "      <td>False</td>\n",
       "      <td>False</td>\n",
       "      <td>False</td>\n",
       "      <td>False</td>\n",
       "      <td>False</td>\n",
       "    </tr>\n",
       "    <tr>\n",
       "      <th>4</th>\n",
       "      <td>False</td>\n",
       "      <td>False</td>\n",
       "      <td>False</td>\n",
       "      <td>False</td>\n",
       "      <td>False</td>\n",
       "      <td>False</td>\n",
       "      <td>False</td>\n",
       "      <td>False</td>\n",
       "      <td>False</td>\n",
       "      <td>False</td>\n",
       "    </tr>\n",
       "    <tr>\n",
       "      <th>...</th>\n",
       "      <td>...</td>\n",
       "      <td>...</td>\n",
       "      <td>...</td>\n",
       "      <td>...</td>\n",
       "      <td>...</td>\n",
       "      <td>...</td>\n",
       "      <td>...</td>\n",
       "      <td>...</td>\n",
       "      <td>...</td>\n",
       "      <td>...</td>\n",
       "    </tr>\n",
       "    <tr>\n",
       "      <th>15648</th>\n",
       "      <td>False</td>\n",
       "      <td>False</td>\n",
       "      <td>False</td>\n",
       "      <td>False</td>\n",
       "      <td>False</td>\n",
       "      <td>False</td>\n",
       "      <td>False</td>\n",
       "      <td>False</td>\n",
       "      <td>False</td>\n",
       "      <td>False</td>\n",
       "    </tr>\n",
       "    <tr>\n",
       "      <th>15649</th>\n",
       "      <td>False</td>\n",
       "      <td>False</td>\n",
       "      <td>False</td>\n",
       "      <td>False</td>\n",
       "      <td>False</td>\n",
       "      <td>False</td>\n",
       "      <td>False</td>\n",
       "      <td>False</td>\n",
       "      <td>False</td>\n",
       "      <td>False</td>\n",
       "    </tr>\n",
       "    <tr>\n",
       "      <th>15650</th>\n",
       "      <td>False</td>\n",
       "      <td>False</td>\n",
       "      <td>False</td>\n",
       "      <td>False</td>\n",
       "      <td>False</td>\n",
       "      <td>False</td>\n",
       "      <td>False</td>\n",
       "      <td>False</td>\n",
       "      <td>False</td>\n",
       "      <td>False</td>\n",
       "    </tr>\n",
       "    <tr>\n",
       "      <th>15651</th>\n",
       "      <td>False</td>\n",
       "      <td>False</td>\n",
       "      <td>False</td>\n",
       "      <td>False</td>\n",
       "      <td>False</td>\n",
       "      <td>False</td>\n",
       "      <td>False</td>\n",
       "      <td>False</td>\n",
       "      <td>False</td>\n",
       "      <td>False</td>\n",
       "    </tr>\n",
       "    <tr>\n",
       "      <th>15652</th>\n",
       "      <td>False</td>\n",
       "      <td>False</td>\n",
       "      <td>False</td>\n",
       "      <td>False</td>\n",
       "      <td>False</td>\n",
       "      <td>False</td>\n",
       "      <td>False</td>\n",
       "      <td>False</td>\n",
       "      <td>False</td>\n",
       "      <td>False</td>\n",
       "    </tr>\n",
       "  </tbody>\n",
       "</table>\n",
       "<p>15653 rows × 10 columns</p>\n",
       "</div>"
      ],
      "text/plain": [
       "       Arrest Year  Arrest Date  Arrest Hour    Age  Defendant Race  \\\n",
       "0            False        False        False  False           False   \n",
       "1            False        False        False  False           False   \n",
       "2            False        False        False  False           False   \n",
       "3            False        False        False  False           False   \n",
       "4            False        False        False  False           False   \n",
       "...            ...          ...          ...    ...             ...   \n",
       "15648        False        False        False  False           False   \n",
       "15649        False        False        False  False           False   \n",
       "15650        False        False        False  False           False   \n",
       "15651        False        False        False  False           False   \n",
       "15652        False        False        False  False           False   \n",
       "\n",
       "       Defendant Ethnicity  Defendant Sex  Arrest Category  Offense Latitude  \\\n",
       "0                    False          False            False             False   \n",
       "1                    False          False            False             False   \n",
       "2                    False          False            False             False   \n",
       "3                    False          False            False             False   \n",
       "4                    False          False            False             False   \n",
       "...                    ...            ...              ...               ...   \n",
       "15648                False          False            False             False   \n",
       "15649                False          False            False             False   \n",
       "15650                False          False            False             False   \n",
       "15651                False          False            False             False   \n",
       "15652                False          False            False             False   \n",
       "\n",
       "       Offense Longitude  \n",
       "0                  False  \n",
       "1                  False  \n",
       "2                  False  \n",
       "3                  False  \n",
       "4                  False  \n",
       "...                  ...  \n",
       "15648              False  \n",
       "15649              False  \n",
       "15650              False  \n",
       "15651              False  \n",
       "15652              False  \n",
       "\n",
       "[15653 rows x 10 columns]"
      ]
     },
     "execution_count": 11,
     "metadata": {},
     "output_type": "execute_result"
    }
   ],
   "source": [
    "df.isnull()"
   ]
  },
  {
   "cell_type": "markdown",
   "id": "ad1cef7b",
   "metadata": {},
   "source": [
    "## Criteria Based Label Creation"
   ]
  },
  {
   "cell_type": "code",
   "execution_count": 12,
   "id": "c2e5d93f",
   "metadata": {},
   "outputs": [
    {
     "data": {
      "text/plain": [
       "35.374177473966654"
      ]
     },
     "execution_count": 12,
     "metadata": {},
     "output_type": "execute_result"
    }
   ],
   "source": [
    "crimes_age = list(map(float, df.Age))\n",
    "crimes_mean = sum(crimes_age)/len(crimes_age)\n",
    "crimes_mean"
   ]
  },
  {
   "cell_type": "code",
   "execution_count": 13,
   "id": "d67f5760",
   "metadata": {},
   "outputs": [
    {
     "name": "stderr",
     "output_type": "stream",
     "text": [
      "C:\\Users\\JNR_A_R_Y_A\\AppData\\Local\\Temp\\ipykernel_9132\\2502579663.py:3: FutureWarning: The default value of numeric_only in DataFrameGroupBy.mean is deprecated. In a future version, numeric_only will default to False. Either specify numeric_only or select only columns which should be valid for the function.\n",
      "  df.groupby('crime_occurence_age').mean()\n"
     ]
    },
    {
     "data": {
      "text/html": [
       "<div>\n",
       "<style scoped>\n",
       "    .dataframe tbody tr th:only-of-type {\n",
       "        vertical-align: middle;\n",
       "    }\n",
       "\n",
       "    .dataframe tbody tr th {\n",
       "        vertical-align: top;\n",
       "    }\n",
       "\n",
       "    .dataframe thead th {\n",
       "        text-align: right;\n",
       "    }\n",
       "</style>\n",
       "<table border=\"1\" class=\"dataframe\">\n",
       "  <thead>\n",
       "    <tr style=\"text-align: right;\">\n",
       "      <th></th>\n",
       "      <th>Arrest Year</th>\n",
       "      <th>Arrest Hour</th>\n",
       "      <th>Age</th>\n",
       "      <th>Offense Latitude</th>\n",
       "      <th>Offense Longitude</th>\n",
       "      <th>Age_mean</th>\n",
       "    </tr>\n",
       "    <tr>\n",
       "      <th>crime_occurence_age</th>\n",
       "      <th></th>\n",
       "      <th></th>\n",
       "      <th></th>\n",
       "      <th></th>\n",
       "      <th></th>\n",
       "      <th></th>\n",
       "    </tr>\n",
       "  </thead>\n",
       "  <tbody>\n",
       "    <tr>\n",
       "      <th>0</th>\n",
       "      <td>2021.0</td>\n",
       "      <td>12.743929</td>\n",
       "      <td>26.988725</td>\n",
       "      <td>38.855876</td>\n",
       "      <td>-76.915434</td>\n",
       "      <td>35.374177</td>\n",
       "    </tr>\n",
       "    <tr>\n",
       "      <th>1</th>\n",
       "      <td>2021.0</td>\n",
       "      <td>12.925027</td>\n",
       "      <td>47.405195</td>\n",
       "      <td>38.824105</td>\n",
       "      <td>-76.849981</td>\n",
       "      <td>35.374177</td>\n",
       "    </tr>\n",
       "  </tbody>\n",
       "</table>\n",
       "</div>"
      ],
      "text/plain": [
       "                     Arrest Year  Arrest Hour        Age  Offense Latitude  \\\n",
       "crime_occurence_age                                                          \n",
       "0                         2021.0    12.743929  26.988725         38.855876   \n",
       "1                         2021.0    12.925027  47.405195         38.824105   \n",
       "\n",
       "                     Offense Longitude   Age_mean  \n",
       "crime_occurence_age                                \n",
       "0                           -76.915434  35.374177  \n",
       "1                           -76.849981  35.374177  "
      ]
     },
     "execution_count": 13,
     "metadata": {},
     "output_type": "execute_result"
    }
   ],
   "source": [
    "df['Age_mean'] = crimes_mean\n",
    "df['crime_occurence_age'] = np.where(crimes_age>=df['Age_mean'], '1', '0')\n",
    "df.groupby('crime_occurence_age').mean()"
   ]
  },
  {
   "cell_type": "markdown",
   "id": "40d09dd6",
   "metadata": {},
   "source": [
    "## Data Slicing"
   ]
  },
  {
   "cell_type": "code",
   "execution_count": 14,
   "id": "3964d862",
   "metadata": {},
   "outputs": [
    {
     "data": {
      "text/html": [
       "<div>\n",
       "<style scoped>\n",
       "    .dataframe tbody tr th:only-of-type {\n",
       "        vertical-align: middle;\n",
       "    }\n",
       "\n",
       "    .dataframe tbody tr th {\n",
       "        vertical-align: top;\n",
       "    }\n",
       "\n",
       "    .dataframe thead th {\n",
       "        text-align: right;\n",
       "    }\n",
       "</style>\n",
       "<table border=\"1\" class=\"dataframe\">\n",
       "  <thead>\n",
       "    <tr style=\"text-align: right;\">\n",
       "      <th></th>\n",
       "      <th>Arrest Year</th>\n",
       "      <th>Arrest Date</th>\n",
       "      <th>Arrest Hour</th>\n",
       "      <th>Age</th>\n",
       "      <th>Defendant Race</th>\n",
       "      <th>Defendant Ethnicity</th>\n",
       "      <th>Defendant Sex</th>\n",
       "      <th>Arrest Category</th>\n",
       "      <th>Offense Latitude</th>\n",
       "      <th>Offense Longitude</th>\n",
       "      <th>Age_mean</th>\n",
       "      <th>crime_occurence_age</th>\n",
       "    </tr>\n",
       "  </thead>\n",
       "  <tbody>\n",
       "    <tr>\n",
       "      <th>0</th>\n",
       "      <td>2021</td>\n",
       "      <td>1/1/21</td>\n",
       "      <td>0</td>\n",
       "      <td>38</td>\n",
       "      <td>BLACK</td>\n",
       "      <td>UNKNOWN</td>\n",
       "      <td>MALE</td>\n",
       "      <td>Damage to Property</td>\n",
       "      <td>38.927</td>\n",
       "      <td>-77.006</td>\n",
       "      <td>35.374177</td>\n",
       "      <td>1</td>\n",
       "    </tr>\n",
       "    <tr>\n",
       "      <th>1</th>\n",
       "      <td>2021</td>\n",
       "      <td>1/1/21</td>\n",
       "      <td>0</td>\n",
       "      <td>31</td>\n",
       "      <td>BLACK</td>\n",
       "      <td>NOT HISPANIC</td>\n",
       "      <td>MALE</td>\n",
       "      <td>Simple Assault</td>\n",
       "      <td>38.925</td>\n",
       "      <td>-77.033</td>\n",
       "      <td>35.374177</td>\n",
       "      <td>0</td>\n",
       "    </tr>\n",
       "    <tr>\n",
       "      <th>2</th>\n",
       "      <td>2021</td>\n",
       "      <td>1/1/21</td>\n",
       "      <td>0</td>\n",
       "      <td>35</td>\n",
       "      <td>BLACK</td>\n",
       "      <td>NOT HISPANIC</td>\n",
       "      <td>MALE</td>\n",
       "      <td>Weapon Violations</td>\n",
       "      <td>38.900</td>\n",
       "      <td>-76.930</td>\n",
       "      <td>35.374177</td>\n",
       "      <td>0</td>\n",
       "    </tr>\n",
       "    <tr>\n",
       "      <th>3</th>\n",
       "      <td>2021</td>\n",
       "      <td>1/1/21</td>\n",
       "      <td>0</td>\n",
       "      <td>31</td>\n",
       "      <td>BLACK</td>\n",
       "      <td>NOT HISPANIC</td>\n",
       "      <td>MALE</td>\n",
       "      <td>Weapon Violations</td>\n",
       "      <td>38.849</td>\n",
       "      <td>-76.976</td>\n",
       "      <td>35.374177</td>\n",
       "      <td>0</td>\n",
       "    </tr>\n",
       "    <tr>\n",
       "      <th>4</th>\n",
       "      <td>2021</td>\n",
       "      <td>1/1/21</td>\n",
       "      <td>0</td>\n",
       "      <td>21</td>\n",
       "      <td>BLACK</td>\n",
       "      <td>NOT HISPANIC</td>\n",
       "      <td>MALE</td>\n",
       "      <td>Weapon Violations</td>\n",
       "      <td>38.882</td>\n",
       "      <td>-76.925</td>\n",
       "      <td>35.374177</td>\n",
       "      <td>0</td>\n",
       "    </tr>\n",
       "    <tr>\n",
       "      <th>...</th>\n",
       "      <td>...</td>\n",
       "      <td>...</td>\n",
       "      <td>...</td>\n",
       "      <td>...</td>\n",
       "      <td>...</td>\n",
       "      <td>...</td>\n",
       "      <td>...</td>\n",
       "      <td>...</td>\n",
       "      <td>...</td>\n",
       "      <td>...</td>\n",
       "      <td>...</td>\n",
       "      <td>...</td>\n",
       "    </tr>\n",
       "    <tr>\n",
       "      <th>195</th>\n",
       "      <td>2021</td>\n",
       "      <td>1/13/21</td>\n",
       "      <td>17</td>\n",
       "      <td>54</td>\n",
       "      <td>BLACK</td>\n",
       "      <td>NOT HISPANIC</td>\n",
       "      <td>MALE</td>\n",
       "      <td>Traffic Violations</td>\n",
       "      <td>38.905</td>\n",
       "      <td>-77.017</td>\n",
       "      <td>35.374177</td>\n",
       "      <td>1</td>\n",
       "    </tr>\n",
       "    <tr>\n",
       "      <th>196</th>\n",
       "      <td>2021</td>\n",
       "      <td>1/13/21</td>\n",
       "      <td>20</td>\n",
       "      <td>28</td>\n",
       "      <td>BLACK</td>\n",
       "      <td>NOT HISPANIC</td>\n",
       "      <td>MALE</td>\n",
       "      <td>Assault with a Dangerous Weapon</td>\n",
       "      <td>38.888</td>\n",
       "      <td>-76.919</td>\n",
       "      <td>35.374177</td>\n",
       "      <td>0</td>\n",
       "    </tr>\n",
       "    <tr>\n",
       "      <th>197</th>\n",
       "      <td>2021</td>\n",
       "      <td>1/13/21</td>\n",
       "      <td>20</td>\n",
       "      <td>33</td>\n",
       "      <td>BLACK</td>\n",
       "      <td>NOT HISPANIC</td>\n",
       "      <td>MALE</td>\n",
       "      <td>Damage to Property</td>\n",
       "      <td>38.845</td>\n",
       "      <td>-76.985</td>\n",
       "      <td>35.374177</td>\n",
       "      <td>0</td>\n",
       "    </tr>\n",
       "    <tr>\n",
       "      <th>198</th>\n",
       "      <td>2021</td>\n",
       "      <td>1/13/21</td>\n",
       "      <td>20</td>\n",
       "      <td>31</td>\n",
       "      <td>BLACK</td>\n",
       "      <td>NOT HISPANIC</td>\n",
       "      <td>MALE</td>\n",
       "      <td>Driving/Boating While Intoxicated</td>\n",
       "      <td>38.902</td>\n",
       "      <td>-76.942</td>\n",
       "      <td>35.374177</td>\n",
       "      <td>0</td>\n",
       "    </tr>\n",
       "    <tr>\n",
       "      <th>199</th>\n",
       "      <td>2021</td>\n",
       "      <td>1/13/21</td>\n",
       "      <td>21</td>\n",
       "      <td>34</td>\n",
       "      <td>WHITE</td>\n",
       "      <td>NOT HISPANIC</td>\n",
       "      <td>MALE</td>\n",
       "      <td>Simple Assault</td>\n",
       "      <td>38.900</td>\n",
       "      <td>-77.018</td>\n",
       "      <td>35.374177</td>\n",
       "      <td>0</td>\n",
       "    </tr>\n",
       "  </tbody>\n",
       "</table>\n",
       "<p>200 rows × 12 columns</p>\n",
       "</div>"
      ],
      "text/plain": [
       "     Arrest Year Arrest Date  Arrest Hour  Age Defendant Race  \\\n",
       "0           2021      1/1/21            0   38          BLACK   \n",
       "1           2021      1/1/21            0   31          BLACK   \n",
       "2           2021      1/1/21            0   35          BLACK   \n",
       "3           2021      1/1/21            0   31          BLACK   \n",
       "4           2021      1/1/21            0   21          BLACK   \n",
       "..           ...         ...          ...  ...            ...   \n",
       "195         2021     1/13/21           17   54          BLACK   \n",
       "196         2021     1/13/21           20   28          BLACK   \n",
       "197         2021     1/13/21           20   33          BLACK   \n",
       "198         2021     1/13/21           20   31          BLACK   \n",
       "199         2021     1/13/21           21   34          WHITE   \n",
       "\n",
       "    Defendant Ethnicity Defendant Sex                    Arrest Category  \\\n",
       "0               UNKNOWN          MALE                 Damage to Property   \n",
       "1          NOT HISPANIC          MALE                     Simple Assault   \n",
       "2          NOT HISPANIC          MALE                  Weapon Violations   \n",
       "3          NOT HISPANIC          MALE                  Weapon Violations   \n",
       "4          NOT HISPANIC          MALE                  Weapon Violations   \n",
       "..                  ...           ...                                ...   \n",
       "195        NOT HISPANIC          MALE                 Traffic Violations   \n",
       "196        NOT HISPANIC          MALE    Assault with a Dangerous Weapon   \n",
       "197        NOT HISPANIC          MALE                 Damage to Property   \n",
       "198        NOT HISPANIC          MALE  Driving/Boating While Intoxicated   \n",
       "199        NOT HISPANIC          MALE                     Simple Assault   \n",
       "\n",
       "     Offense Latitude  Offense Longitude   Age_mean crime_occurence_age  \n",
       "0              38.927            -77.006  35.374177                   1  \n",
       "1              38.925            -77.033  35.374177                   0  \n",
       "2              38.900            -76.930  35.374177                   0  \n",
       "3              38.849            -76.976  35.374177                   0  \n",
       "4              38.882            -76.925  35.374177                   0  \n",
       "..                ...                ...        ...                 ...  \n",
       "195            38.905            -77.017  35.374177                   1  \n",
       "196            38.888            -76.919  35.374177                   0  \n",
       "197            38.845            -76.985  35.374177                   0  \n",
       "198            38.902            -76.942  35.374177                   0  \n",
       "199            38.900            -77.018  35.374177                   0  \n",
       "\n",
       "[200 rows x 12 columns]"
      ]
     },
     "execution_count": 14,
     "metadata": {},
     "output_type": "execute_result"
    }
   ],
   "source": [
    "df1 = df.iloc[:200]\n",
    "df1.head(200)"
   ]
  },
  {
   "cell_type": "markdown",
   "id": "a46d3525",
   "metadata": {},
   "source": [
    "## Feature Selection for Clustering Algorithms"
   ]
  },
  {
   "cell_type": "code",
   "execution_count": 15,
   "id": "c1686cbe",
   "metadata": {},
   "outputs": [],
   "source": [
    "features = ['Offense Latitude', 'Offense Longitude']\n",
    "X = df1[features].values\n",
    "y = df1['crime_occurence_age'].astype(float).values"
   ]
  },
  {
   "cell_type": "markdown",
   "id": "77b75b19",
   "metadata": {},
   "source": [
    "## Plotting the actual data to vizualize it"
   ]
  },
  {
   "cell_type": "code",
   "execution_count": 16,
   "id": "a2d8ce87",
   "metadata": {},
   "outputs": [
    {
     "data": {
      "image/png": "[encoded data removed]",
      "text/plain": [
       "<Figure size 640x480 with 1 Axes>"
      ]
     },
     "metadata": {},
     "output_type": "display_data"
    }
   ],
   "source": [
    "plt.scatter(X[:, 0], X[:, 1], s=50);"
   ]
  },
  {
   "cell_type": "markdown",
   "id": "17fdd31d",
   "metadata": {},
   "source": [
    "## Splitting the data"
   ]
  },
  {
   "cell_type": "code",
   "execution_count": 17,
   "id": "ffd933f8",
   "metadata": {},
   "outputs": [],
   "source": [
    "from sklearn.model_selection import train_test_split\n",
    "X_train, X_test, y_train, y_test = train_test_split(X, y, test_size=0.2, random_state=0)"
   ]
  },
  {
   "cell_type": "markdown",
   "id": "423be4bb",
   "metadata": {},
   "source": [
    "## Using the elbow method to find the optimal number of clusters"
   ]
  },
  {
   "cell_type": "code",
   "execution_count": 18,
   "id": "13d68597",
   "metadata": {},
   "outputs": [
    {
     "data": {
      "image/png": "[encoded data removed]",
      "text/plain": [
       "<Figure size 640x480 with 1 Axes>"
      ]
     },
     "metadata": {},
     "output_type": "display_data"
    }
   ],
   "source": [
    "from sklearn.cluster import KMeans\n",
    "wcss = []\n",
    "for i in range(1,11):\n",
    "    kmeans =KMeans(n_clusters =i, init = 'k-means++', max_iter =300, n_init=10, random_state=0)\n",
    "    kmeans.fit(X)\n",
    "    wcss.append(kmeans.inertia_)\n",
    "plt.plot(range(1,11), wcss)\n",
    "plt.title('The Elbow Method')\n",
    "plt.xlabel('Number of clusters')\n",
    "plt.ylabel('WCSS')\n",
    "plt.show()"
   ]
  },
  {
   "cell_type": "markdown",
   "id": "19046888",
   "metadata": {},
   "source": [
    "## Applying kMeans Algorithm"
   ]
  },
  {
   "cell_type": "code",
   "execution_count": 19,
   "id": "7b3a17f8",
   "metadata": {},
   "outputs": [],
   "source": [
    "from sklearn.cluster import KMeans\n",
    "kmeans = KMeans(n_clusters=2)\n",
    "kmeans.fit(X_train)\n",
    "y_pred = kmeans.predict(X_test)"
   ]
  },
  {
   "cell_type": "markdown",
   "id": "a524b40c",
   "metadata": {},
   "source": [
    "## Vizualising the clusters"
   ]
  },
  {
   "cell_type": "code",
   "execution_count": 20,
   "id": "6bf2b72c",
   "metadata": {},
   "outputs": [
    {
     "data": {
      "image/png": "[encoded data removed]",
      "text/plain": [
       "<Figure size 640x480 with 1 Axes>"
      ]
     },
     "metadata": {},
     "output_type": "display_data"
    }
   ],
   "source": [
    "plt.scatter(X_test[:, 0], X_test[:, 1], c=y_pred, s=50, cmap='viridis')\n",
    "\n",
    "centers = kmeans.cluster_centers_\n",
    "plt.scatter(centers[:, 0], centers[:, 1], c='black', s=200, alpha=0.5);"
   ]
  },
  {
   "cell_type": "markdown",
   "id": "c0626d87",
   "metadata": {},
   "source": [
    "## Metrics Calculation"
   ]
  },
  {
   "cell_type": "code",
   "execution_count": 21,
   "id": "019d7e9b",
   "metadata": {},
   "outputs": [],
   "source": [
    "from sklearn.metrics import accuracy_score, precision_score, recall_score, f1_score, confusion_matrix\n",
    "\n",
    "kmeans_accuracy = accuracy_score(y_test, y_pred)\n",
    "kmeans_precison=precision_score(y_test,y_pred,average=None)\n",
    "kmeans_recall=recall_score(y_test,y_pred,average=None)\n",
    "kmeans_f1=f1_score(y_test,y_pred,average=None)\n",
    "kmeans_confusion_matrix = confusion_matrix(y_test, y_pred)"
   ]
  },
  {
   "cell_type": "code",
   "execution_count": 22,
   "id": "2d408f45",
   "metadata": {},
   "outputs": [
    {
     "name": "stdout",
     "output_type": "stream",
     "text": [
      "K-Means\n",
      "Scores\n",
      "Accuracy --> 0.55\n",
      "Precison --> [0.77777778 0.36363636]\n",
      "Recall --> [0.5        0.66666667]\n",
      "F1 --> [0.60869565 0.47058824]\n",
      "Confusion Matrix\n",
      "[[14 14]\n",
      " [ 4  8]]\n"
     ]
    }
   ],
   "source": [
    "print(\"K-Means\")\n",
    "print(\"Scores\")\n",
    "print(\"Accuracy -->\",kmeans_accuracy)\n",
    "print(\"Precison -->\",kmeans_precison)\n",
    "print(\"Recall -->\",kmeans_recall)\n",
    "print(\"F1 -->\",kmeans_f1)\n",
    "\n",
    "print(\"Confusion Matrix\")\n",
    "print(kmeans_confusion_matrix)"
   ]
  },
  {
   "cell_type": "markdown",
   "id": "7e7ba477",
   "metadata": {},
   "source": [
    "## Applying GMM"
   ]
  },
  {
   "cell_type": "markdown",
   "id": "c792e44d",
   "metadata": {},
   "source": [
    "### Data Cleaning"
   ]
  },
  {
   "cell_type": "code",
   "execution_count": 23,
   "id": "a79d34ba",
   "metadata": {},
   "outputs": [],
   "source": [
    "#converting huge ranges of data to average values\n",
    "import re\n",
    "\n",
    "def extractSubstring(myStr):\n",
    "    if isinstance(myStr, float):\n",
    "        return myStr  # Return the float value as is\n",
    "    elif \"-\" in myStr:\n",
    "        lowVal, hiVal = map(float, re.findall(r'\\d+\\.\\d+|\\d+', myStr))\n",
    "        return (lowVal + hiVal) / 2\n",
    "    else:\n",
    "        return convert_to_float(myStr)\n",
    "\n",
    "def convert_to_float(input_str):\n",
    "    return float(input_str.replace(\",\", \"\"))\n",
    "\n",
    "# Assuming 'df' is your DataFrame\n",
    "df['Offense Latitude'] = df['Offense Latitude'].apply(extractSubstring)\n",
    "df['Offense Longitude'] = df['Offense Longitude'].apply(extractSubstring)\n"
   ]
  },
  {
   "cell_type": "markdown",
   "id": "e3e1274b",
   "metadata": {},
   "source": [
    "### Feature selection"
   ]
  },
  {
   "cell_type": "code",
   "execution_count": 24,
   "id": "112142c9",
   "metadata": {},
   "outputs": [],
   "source": [
    "Features = ['Offense Latitude','Offense Longitude']\n",
    "X = df[Features].values"
   ]
  },
  {
   "cell_type": "markdown",
   "id": "45aeff45",
   "metadata": {},
   "source": [
    "## Applying GMM"
   ]
  },
  {
   "cell_type": "code",
   "execution_count": 25,
   "id": "fc21f25e",
   "metadata": {},
   "outputs": [],
   "source": [
    "from sklearn.mixture import GaussianMixture\n",
    "gmm = GaussianMixture(n_components=3).fit(X)\n",
    "labels = gmm.predict(X)"
   ]
  },
  {
   "cell_type": "markdown",
   "id": "6b2b8845",
   "metadata": {},
   "source": [
    "## Vizualising the clusters"
   ]
  },
  {
   "cell_type": "code",
   "execution_count": 26,
   "id": "728abe9b",
   "metadata": {},
   "outputs": [
    {
     "data": {
      "text/plain": [
       "Text(0.5, 1.0, 'GMM Clustering')"
      ]
     },
     "execution_count": 26,
     "metadata": {},
     "output_type": "execute_result"
    },
    {
     "data": {
      "image/png": "[encoded data removed]",
      "text/plain": [
       "<Figure size 640x480 with 1 Axes>"
      ]
     },
     "metadata": {},
     "output_type": "display_data"
    }
   ],
   "source": [
    "plt.scatter(X[:, 0], X[:, 1], c=labels, s=80, cmap='viridis');\n",
    "plt.title(\"GMM Clustering\")"
   ]
  },
  {
   "cell_type": "markdown",
   "id": "f2f5f6bb",
   "metadata": {},
   "source": [
    "## Linear Regression"
   ]
  },
  {
   "cell_type": "markdown",
   "id": "0e8e146f",
   "metadata": {},
   "source": [
    "### Feature Selection"
   ]
  },
  {
   "cell_type": "code",
   "execution_count": 27,
   "id": "5a494a1d",
   "metadata": {},
   "outputs": [],
   "source": [
    "X1 = df[['Offense Latitude']].astype(float).values\n",
    "y1 = df['Age'].astype(int).values"
   ]
  },
  {
   "cell_type": "markdown",
   "id": "47d94a93",
   "metadata": {},
   "source": [
    "### Splitting the data"
   ]
  },
  {
   "cell_type": "code",
   "execution_count": 28,
   "id": "74d3c7b5",
   "metadata": {},
   "outputs": [],
   "source": [
    "X1_train, X1_test, y1_train, y1_test = train_test_split(X1, y1, test_size=0.2, random_state=0)"
   ]
  },
  {
   "cell_type": "markdown",
   "id": "ec042354",
   "metadata": {},
   "source": [
    "### Fitting the model"
   ]
  },
  {
   "cell_type": "code",
   "execution_count": 29,
   "id": "ca1cd4a2",
   "metadata": {},
   "outputs": [
    {
     "data": {
      "text/plain": [
       "LinearRegression()"
      ]
     },
     "execution_count": 29,
     "metadata": {},
     "output_type": "execute_result"
    }
   ],
   "source": [
    "from sklearn import datasets, linear_model\n",
    "regr = linear_model.LinearRegression()\n",
    "regr.fit(X1_train, y1_train)"
   ]
  },
  {
   "cell_type": "markdown",
   "id": "f184ad27",
   "metadata": {},
   "source": [
    "### Predicting the values"
   ]
  },
  {
   "cell_type": "code",
   "execution_count": 30,
   "id": "46f69d61",
   "metadata": {},
   "outputs": [],
   "source": [
    "y_pred = regr.predict(X1_test)"
   ]
  },
  {
   "cell_type": "markdown",
   "id": "7efdd7a9",
   "metadata": {},
   "source": [
    "### Vizualisation of plots"
   ]
  },
  {
   "cell_type": "code",
   "execution_count": 31,
   "id": "630a5d49",
   "metadata": {},
   "outputs": [
    {
     "data": {
      "image/png": "[encoded data removed]",
      "text/plain": [
       "<Figure size 640x480 with 1 Axes>"
      ]
     },
     "metadata": {},
     "output_type": "display_data"
    }
   ],
   "source": [
    "plt.scatter(X1_test, y1_test,  color='red')\n",
    "plt.plot(X1_test, y_pred, color='blue', linewidth=3)\n",
    "\n",
    "plt.title('Crime Data, Arrest Hour vs Age')\n",
    "plt.xlabel('Offense Latitude')\n",
    "plt.ylabel('Age')\n",
    "\n",
    "plt.yticks(())\n",
    "plt.show()"
   ]
  },
  {
   "cell_type": "markdown",
   "id": "39d78a8e",
   "metadata": {},
   "source": [
    "## Logistic Regression"
   ]
  },
  {
   "cell_type": "code",
   "execution_count": 32,
   "id": "045ea9ff",
   "metadata": {},
   "outputs": [
    {
     "name": "stdout",
     "output_type": "stream",
     "text": [
      "Requirement already satisfied: statsmodels in c:\\python 3.9\\lib\\site-packages (0.14.1)\n",
      "Requirement already satisfied: numpy<2,>=1.18 in c:\\python 3.9\\lib\\site-packages (from statsmodels) (1.21.0)\n",
      "Requirement already satisfied: scipy!=1.9.2,>=1.4 in c:\\python 3.9\\lib\\site-packages (from statsmodels) (1.7.0)\n",
      "Requirement already satisfied: pandas!=2.1.0,>=1.0 in c:\\python 3.9\\lib\\site-packages (from statsmodels) (1.5.3)\n",
      "Requirement already satisfied: patsy>=0.5.4 in c:\\python 3.9\\lib\\site-packages (from statsmodels) (0.5.6)\n",
      "Requirement already satisfied: packaging>=21.3 in c:\\python 3.9\\lib\\site-packages (from statsmodels) (24.0)\n",
      "Requirement already satisfied: python-dateutil>=2.8.1 in c:\\python 3.9\\lib\\site-packages (from pandas!=2.1.0,>=1.0->statsmodels) (2.8.2)\n",
      "Requirement already satisfied: pytz>=2020.1 in c:\\python 3.9\\lib\\site-packages (from pandas!=2.1.0,>=1.0->statsmodels) (2021.1)\n",
      "Requirement already satisfied: six in c:\\python 3.9\\lib\\site-packages (from patsy>=0.5.4->statsmodels) (1.16.0)\n",
      "Note: you may need to restart the kernel to use updated packages.\n"
     ]
    },
    {
     "name": "stderr",
     "output_type": "stream",
     "text": [
      "DEPRECATION: jupyter-server 2.0.0 has a non-standard dependency specifier jupyter-core!=~5.0,>=4.12. pip 24.1 will enforce this behaviour change. A possible replacement is to upgrade to a newer version of jupyter-server or contact the author to suggest that they release a version with a conforming dependency specifiers. Discussion can be found at https://github.com/pypa/pip/issues/12063\n"
     ]
    }
   ],
   "source": [
    "pip install statsmodels"
   ]
  },
  {
   "cell_type": "code",
   "execution_count": 33,
   "id": "8c883ee7",
   "metadata": {},
   "outputs": [],
   "source": [
    "import statsmodels.api as sm\n",
    "import matplotlib.pyplot as plt\n",
    "import seaborn as sns\n",
    "from sklearn import metrics\n",
    "from patsy import dmatrices\n",
    "from sklearn.linear_model import LogisticRegression\n",
    "from sklearn.model_selection import train_test_split, cross_val_score\n"
   ]
  },
  {
   "cell_type": "markdown",
   "id": "8298d0d2",
   "metadata": {},
   "source": [
    "### Data Slicing"
   ]
  },
  {
   "cell_type": "code",
   "execution_count": 34,
   "id": "adf2deaf",
   "metadata": {},
   "outputs": [],
   "source": [
    "df1 = df.iloc[:200]"
   ]
  },
  {
   "cell_type": "markdown",
   "id": "6dd7d11f",
   "metadata": {},
   "source": [
    "### Visualizing Selected Features by plotting their Histograms"
   ]
  },
  {
   "cell_type": "code",
   "execution_count": 40,
   "id": "8be2d6a2",
   "metadata": {},
   "outputs": [],
   "source": [
    "age_data = df['Age'].astype(float)"
   ]
  },
  {
   "cell_type": "code",
   "execution_count": 42,
   "id": "c0210a4d",
   "metadata": {},
   "outputs": [],
   "source": [
    "age_data.replace('?','0', inplace = True)"
   ]
  },
  {
   "cell_type": "code",
   "execution_count": 44,
   "id": "32181380",
   "metadata": {},
   "outputs": [
    {
     "data": {
      "image/png": "[encoded data removed]",
      "text/plain": [
       "<Figure size 800x600 with 1 Axes>"
      ]
     },
     "metadata": {},
     "output_type": "display_data"
    }
   ],
   "source": [
    "%matplotlib inline\n",
    "plt.figure(figsize=(8, 6))\n",
    "age_data.hist()\n",
    "plt.title('Histogram of Age')\n",
    "plt.xlabel('Age')\n",
    "plt.ylabel('Frequency')\n",
    "plt.show()"
   ]
  },
  {
   "cell_type": "markdown",
   "id": "4c5a0ce3",
   "metadata": {},
   "source": [
    "### Plotting the features to analyze the label and its frequency"
   ]
  },
  {
   "cell_type": "code",
   "execution_count": 46,
   "id": "2fb0d4e4",
   "metadata": {},
   "outputs": [
    {
     "data": {
      "text/plain": [
       "<function matplotlib.pyplot.show(close=None, block=None)>"
      ]
     },
     "execution_count": 46,
     "metadata": {},
     "output_type": "execute_result"
    },
    {
     "data": {
      "image/png": "[encoded data removed]",
      "text/plain": [
       "<Figure size 640x480 with 1 Axes>"
      ]
     },
     "metadata": {},
     "output_type": "display_data"
    }
   ],
   "source": [
    "pd.crosstab(age, df1.crime_occurence_age).plot(kind='bar')\n",
    "plt.title('Age  by Crime Occurence Age')\n",
    "plt.xlabel('Age')\n",
    "plt.xticks(rotation='vertical')\n",
    "plt.ylabel('Frequency')\n",
    "plt.show"
   ]
  },
  {
   "cell_type": "code",
   "execution_count": 51,
   "id": "cde3b686",
   "metadata": {},
   "outputs": [],
   "source": [
    "X_LogReg= ['Age', 'Arrest Year', 'Arrest Hour', 'Offense Latitude', 'Offense Longitude']"
   ]
  },
  {
   "cell_type": "code",
   "execution_count": 52,
   "id": "4d37bc65",
   "metadata": {},
   "outputs": [],
   "source": [
    "y_LogReg = df1[['crime_occurence_age']]"
   ]
  },
  {
   "cell_type": "markdown",
   "id": "5f714a8c",
   "metadata": {},
   "source": [
    "### Training the Model"
   ]
  },
  {
   "cell_type": "code",
   "execution_count": 53,
   "id": "e7e4650c",
   "metadata": {},
   "outputs": [],
   "source": [
    "X_train_LogReg, X_test_LogReg, y_train_LogReg, y_test_LogReg = train_test_split(df1[X_LogReg], y_LogReg, test_size=0.2, random_state=0)"
   ]
  },
  {
   "cell_type": "code",
   "execution_count": 54,
   "id": "aec6e277",
   "metadata": {},
   "outputs": [
    {
     "name": "stderr",
     "output_type": "stream",
     "text": [
      "c:\\python 3.9\\lib\\site-packages\\sklearn\\utils\\validation.py:63: DataConversionWarning: A column-vector y was passed when a 1d array was expected. Please change the shape of y to (n_samples, ), for example using ravel().\n",
      "  return f(*args, **kwargs)\n"
     ]
    },
    {
     "data": {
      "text/plain": [
       "LogisticRegression()"
      ]
     },
     "execution_count": 54,
     "metadata": {},
     "output_type": "execute_result"
    }
   ],
   "source": [
    "logreg = LogisticRegression()\n",
    "logreg.fit(X_train_LogReg, y_train_LogReg)"
   ]
  },
  {
   "cell_type": "markdown",
   "id": "98a7c7e4",
   "metadata": {},
   "source": [
    "## Metrics"
   ]
  },
  {
   "cell_type": "code",
   "execution_count": 55,
   "id": "1e373720",
   "metadata": {},
   "outputs": [
    {
     "name": "stdout",
     "output_type": "stream",
     "text": [
      "Accuracy of logistic regression classifier on test set: 0.97\n"
     ]
    }
   ],
   "source": [
    "y_pred_LogReg = logreg.predict(X_test_LogReg)\n",
    "print('Accuracy of logistic regression classifier on test set: {:.2f}'.format(logreg.score(X_test_LogReg, y_test_LogReg)))"
   ]
  },
  {
   "cell_type": "markdown",
   "id": "d56834bb",
   "metadata": {},
   "source": [
    "### Creating the Confusion Matrix to make further conclusion"
   ]
  },
  {
   "cell_type": "code",
   "execution_count": 56,
   "id": "5fa90c4d",
   "metadata": {},
   "outputs": [
    {
     "name": "stdout",
     "output_type": "stream",
     "text": [
      "Model Accuracy for Logistic Regression: 0.975\n"
     ]
    },
    {
     "data": {
      "image/png": "[encoded data removed]",
      "text/plain": [
       "<Figure size 640x480 with 2 Axes>"
      ]
     },
     "metadata": {},
     "output_type": "display_data"
    }
   ],
   "source": [
    "cnf_matrix_LogitRegression = metrics.confusion_matrix(y_test_LogReg, y_pred_LogReg)\n",
    "cnf_matrix_LogitRegression\n",
    "\n",
    "class_names=[0,1] \n",
    "fig, ax = plt.subplots()\n",
    "tick_marks = np.arange(len(class_names))\n",
    "plt.xticks(tick_marks, class_names)\n",
    "plt.yticks(tick_marks, class_names)\n",
    "\n",
    "# create heatmap\n",
    "sns.heatmap(pd.DataFrame(cnf_matrix_LogitRegression), annot=True, cmap=\"YlGnBu\" ,fmt='g')\n",
    "ax.xaxis.set_label_position(\"top\")\n",
    "plt.tight_layout()\n",
    "plt.title('Confusion matrix for Logistic Regression', y=1.1)\n",
    "plt.ylabel('Actual label')\n",
    "plt.xlabel('Predicted label')\n",
    "print(\"Model Accuracy for Logistic Regression:\",metrics.accuracy_score(y_test_LogReg, y_pred_LogReg))"
   ]
  },
  {
   "cell_type": "code",
   "execution_count": null,
   "id": "17ee883a",
   "metadata": {},
   "outputs": [],
   "source": []
  }
 ],
 "metadata": {
  "kernelspec": {
   "display_name": "Python 3 (ipykernel)",
   "language": "python",
   "name": "python3"
  },
  "language_info": {
   "codemirror_mode": {
    "name": "ipython",
    "version": 3
   },
   "file_extension": ".py",
   "mimetype": "text/x-python",
   "name": "python",
   "nbconvert_exporter": "python",
   "pygments_lexer": "ipython3",
   "version": "3.9.5"
  }
 },
 "nbformat": 4,
 "nbformat_minor": 5
}
